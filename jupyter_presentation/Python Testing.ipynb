{
 "cells": [
  {
   "cell_type": "markdown",
   "metadata": {},
   "source": [
    "# Testing, Mocking and Python\n",
    "\n",
    "##### Unit testing in Python and mocking techniques.\n",
    "\n",
    "<img src=\"files/unittest.jpg\" height=\"65%\" width=\"65%\" align=\"left\">\n"
   ]
  },
  {
   "cell_type": "markdown",
   "metadata": {},
   "source": [
    "# Introduction\n",
    "\n",
    "## Me\n",
    "- Darshan Ahluwalia\n",
    "- Tutored Python at UC Irvine\n",
    "- Using Python professionally for about 10 years\n",
    "- I also like [gardening](http://husbandryandharvest.tumblr.com) and making [adventure shorts](https://vimeo.com/user38627724)\n",
    "\n",
    "<img src=\"files/lost-arrow.jpg\" align=\"left\">\n"
   ]
  },
  {
   "cell_type": "markdown",
   "metadata": {},
   "source": [
    "## Workshop?\n",
    "- I'll ask questions\n",
    "- You ask questions\n",
    "- Laptop not really needed\n",
    "- Its a jupyter notebook!\n",
    "- [Source on GitHub](https://github.com/darshahlu/python_testing)\n",
    "\n",
    "<img src=\"files/funny-horses.jpg\" align=\"left\" height=\"85%\" width=\"85%\">"
   ]
  },
  {
   "cell_type": "markdown",
   "metadata": {},
   "source": [
    "\n",
    "## Outline\n",
    "\n",
    "1. Unit Testing Principles\n",
    "   1. What\n",
    "   2. Why\n",
    "   3. Rules\n",
    "2. Mocking\n",
    "   1. Monkey Patching\n",
    "   2. Template Method (Inheritance)\n",
    "   3. Dependency Injection\n",
    "3. Testing in Python: HOWTO\n",
    "   1. unittest\n",
    "   2. doctest\n",
    "   3. pytest\n",
    "4. Demo/example\n",
    "   1. pytest demo\n",
    "   2. Stock picker problem\n"
   ]
  },
  {
   "cell_type": "markdown",
   "metadata": {},
   "source": [
    "# Unit Testing Principles\n",
    "##### What, why, and rules\n",
    "<img src=\"files/monkey-blocks.jpg\" height=\"55%\" width=\"55%\" align=\"left\">\n"
   ]
  },
  {
   "cell_type": "markdown",
   "metadata": {},
   "source": [
    "##### Let's define what is unit test by first looking at the code below."
   ]
  },
  {
   "cell_type": "code",
   "execution_count": 14,
   "metadata": {},
   "outputs": [
    {
     "name": "stdout",
     "output_type": "stream",
     "text": [
      "True\n",
      "True\n"
     ]
    }
   ],
   "source": [
    "def is_balanced(s):\n",
    "    parens = {\n",
    "        ')': '(',\n",
    "        ']': '[',\n",
    "        '}': '{',\n",
    "    }\n",
    "    opens = parens.values()\n",
    "    closes = parens.keys()\n",
    "    found_opens = list()\n",
    "    for c in s:\n",
    "        if c in opens:\n",
    "            found_opens.append(c)\n",
    "        elif c in closes:\n",
    "            try:\n",
    "                last_open = found_opens.pop()\n",
    "            except IndexError:\n",
    "                return False\n",
    "            if parens[c] != last_open:\n",
    "                return False\n",
    "    return not len(found_opens)\n",
    "\n",
    "\n",
    "# Do you do this? Is this testing your code? Is this Unit Test?\n",
    "if __name__ == \"__main__\":\n",
    "    print(is_balanced(''))\n",
    "    print(is_balanced('hello'))\n"
   ]
  },
  {
   "cell_type": "markdown",
   "metadata": {},
   "source": [
    "#### What is Unit Test?\n",
    "- Software which tests software.\n",
    "- Pieces of software, units, are tested in isolation.\n",
    "- Automatable."
   ]
  },
  {
   "cell_type": "code",
   "execution_count": 15,
   "metadata": {},
   "outputs": [],
   "source": [
    "# This is unit test!\n",
    "\n",
    "def test_is_balanced():\n",
    "    assert is_balanced('') == True\n",
    "    assert is_balanced('hello') == True\n",
    "    assert is_balanced('(yes)') == True\n",
    "    assert is_balanced('[(nope])') == False\n",
    "    assert is_balanced('{}[]([wee!])') == True\n",
    "    assert is_balanced('{') == False\n",
    "    assert is_balanced(')') == False\n"
   ]
  },
  {
   "cell_type": "markdown",
   "metadata": {},
   "source": [
    "##### Now let's talk about why we write tests. What does the is_balanced function do?"
   ]
  },
  {
   "cell_type": "markdown",
   "metadata": {},
   "source": [
    "#### Why Unit Test?\n",
    "- Requires you to write better code: more modular, more readable, easier to identify dependencies, etc.\n",
    "- Documents the code in source: tests describe behaviors and functionality.\n",
    "- Supports maintainance: adding features, refactoring, etc. (Did I break anything?)\n",
    "- Finds issues early: during development.\n",
    "- For onboarding developers: a sanity check that the environment is setup correctly."
   ]
  },
  {
   "cell_type": "markdown",
   "metadata": {},
   "source": [
    "##### Now let's talk about unit testing rules. What are some things one must consider when writing tests?\n",
    "\n",
    "Consider testing software which interacts with a database. What are some problems you might encounter?\n",
    "\n",
    "<img src=\"files/database.png\" align=\"left\">"
   ]
  },
  {
   "cell_type": "markdown",
   "metadata": {},
   "source": [
    "#### Unit Testing Rules\n",
    "\n",
    "Rules:\n",
    "\n",
    "1. Must require no human interaction (e.g. do not ask for inputs).\n",
    "2. Must be deterministic (i.e. always produce the same result).\n",
    "3. Must be fast (sub-second up to few seconds).\n",
    "4. Must be testing in isolation.\n",
    "\n",
    "Guidelines:\n",
    "\n",
    "1. Tests should be independent from each other (no side effects).\n",
    "2. Write the fewest test cases to exercise the code."
   ]
  },
  {
   "cell_type": "markdown",
   "metadata": {},
   "source": [
    "#### Unit Testing Principles Summary\n",
    "- What: software which test software.\n",
    "- Why: reasons. (Software quality)\n",
    "- Rules: fast, isolated, and automatable."
   ]
  },
  {
   "cell_type": "markdown",
   "metadata": {},
   "source": [
    "# Mocking\n",
    "### What, why, and techniques\n",
    "\n",
    "<img src=\"files/mocking.jpg\" align=\"left\">\n"
   ]
  },
  {
   "cell_type": "markdown",
   "metadata": {},
   "source": [
    "\n",
    "#### What is mocking \n",
    "Mocking is the changing of software behavior to specific behaviors.\n",
    "\n",
    "#### Why\n",
    "Mocking is necessary to keep tests fast, isolated and with predictable behavior.\n",
    "\n",
    "#### Techniques\n",
    "The following techniques may be employed to mock out software components:\n",
    "1. monkey patch\n",
    "2. template method (inheritance/override behavior)\n",
    "3. dependency injection"
   ]
  },
  {
   "cell_type": "markdown",
   "metadata": {},
   "source": [
    "# The Monkey Patch \n",
    "##### A mocking technique using a monkey\n",
    "\n",
    "<img src=\"files/monkey-tongue-1.jpg\" height=\"55%\" width=\"55%\" align=\"left\">\n"
   ]
  },
  {
   "cell_type": "markdown",
   "metadata": {},
   "source": [
    "##### To talk about patching, we need to understand: objects and typing."
   ]
  },
  {
   "cell_type": "code",
   "execution_count": 16,
   "metadata": {},
   "outputs": [
    {
     "name": "stdout",
     "output_type": "stream",
     "text": [
      "math is:  <class 'module'>\n",
      "MyClass is:  <class 'type'>\n",
      "my_class_instance is:  <class '__main__.MyClass'>\n",
      "\n",
      "math members are:  ['__doc__', '__loader__', '__name__', '__package__', '__spec__', 'acos', 'acosh', 'asin', 'asinh', 'atan', 'atan2', 'atanh', 'ceil', 'copysign', 'cos', 'cosh', 'degrees', 'e', 'erf', 'erfc', 'exp', 'expm1', 'fabs', 'factorial', 'floor', 'fmod', 'frexp', 'fsum', 'gamma', 'gcd', 'hypot', 'inf', 'isclose', 'isfinite', 'isinf', 'isnan', 'ldexp', 'lgamma', 'log', 'log10', 'log1p', 'log2', 'modf', 'nan', 'pi', 'pow', 'radians', 'sin', 'sinh', 'sqrt', 'tan', 'tanh', 'tau', 'trunc']\n",
      "MyClass members are:  ['A_CLASS_VAR', '__class__', '__delattr__', '__dict__', '__dir__', '__doc__', '__eq__', '__format__', '__ge__', '__getattribute__', '__gt__', '__hash__', '__init__', '__init_subclass__', '__le__', '__lt__', '__module__', '__ne__', '__new__', '__reduce__', '__reduce_ex__', '__repr__', '__setattr__', '__sizeof__', '__str__', '__subclasshook__', '__weakref__', 'some_method']\n",
      "my_class_instance members are:  ['A_CLASS_VAR', '__class__', '__delattr__', '__dict__', '__dir__', '__doc__', '__eq__', '__format__', '__ge__', '__getattribute__', '__gt__', '__hash__', '__init__', '__init_subclass__', '__le__', '__lt__', '__module__', '__ne__', '__new__', '__reduce__', '__reduce_ex__', '__repr__', '__setattr__', '__sizeof__', '__str__', '__subclasshook__', '__weakref__', 'a', 'some_method']\n"
     ]
    }
   ],
   "source": [
    "import math\n",
    "\n",
    "\n",
    "class MyClass:\n",
    "    \"\"\"My class docstring\"\"\"\n",
    "    A_CLASS_VAR = 1\n",
    "    \n",
    "    def __init__(self, a):\n",
    "        self.a = a\n",
    "    \n",
    "    def some_method(self):\n",
    "        pass\n",
    "\n",
    "        \n",
    "my_class_instance = MyClass(a='hi')\n",
    "\n",
    "\n",
    "# What does this tell us about modules, classes and instances?\n",
    "print('math is: ', type(math))\n",
    "print('MyClass is: ', type(MyClass))\n",
    "print('my_class_instance is: ', type(my_class_instance))\n",
    "print()\n",
    "print('math members are: ', dir(math))\n",
    "print('MyClass members are: ', dir(MyClass))\n",
    "print('my_class_instance members are: ', dir(my_class_instance))"
   ]
  },
  {
   "cell_type": "code",
   "execution_count": 17,
   "metadata": {},
   "outputs": [
    {
     "name": "stdout",
     "output_type": "stream",
     "text": [
      "x is now: None at 1484651424\n",
      "x is now: False at 1484591008\n",
      "x is now: 1.2 at 137084256\n"
     ]
    }
   ],
   "source": [
    "# Will this code execute? What does this tell us about Python's typing?\n",
    "x = None\n",
    "print(\"x is now: %s at %s\" % (x, id(x)))\n",
    "x = False\n",
    "print(\"x is now: %s at %s\" % (x, id(x)))\n",
    "x = 1.2\n",
    "print(\"x is now: %s at %s\" % (x, id(x)))"
   ]
  },
  {
   "cell_type": "markdown",
   "metadata": {},
   "source": [
    "#### In Python, everything is an object and it is dynamically typed. \n"
   ]
  },
  {
   "cell_type": "code",
   "execution_count": 18,
   "metadata": {},
   "outputs": [
    {
     "name": "stdout",
     "output_type": "stream",
     "text": [
      "134466656\n",
      "hello world\n",
      "134407560\n",
      "goodbye world\n"
     ]
    }
   ],
   "source": [
    "# So we can do stuff like this:\n",
    "\n",
    "class SomeClass:\n",
    "    \n",
    "    def hello_world(self):\n",
    "        print('hello world')\n",
    "\n",
    "s = SomeClass()\n",
    "\n",
    "\n",
    "\n",
    "print(id(s.hello_world))\n",
    "s.hello_world()\n",
    "\n",
    "\n",
    "\n",
    "def bye_world():\n",
    "    print(\"goodbye world\")\n",
    "\n",
    "s.hello_world = bye_world  # THE MONKEY PATCH!\n",
    "\n",
    "\n",
    "\n",
    "print(id(s.hello_world))\n",
    "s.hello_world()"
   ]
  },
  {
   "cell_type": "markdown",
   "metadata": {},
   "source": [
    "\n",
    "\n",
    "What is monkey patching?  It is:\n",
    "\n",
    "<img src=\"files/god-mode.jpg\" align=\"left\">"
   ]
  },
  {
   "cell_type": "markdown",
   "metadata": {},
   "source": [
    "#### Definition\n",
    "Dynamically change behaviors by reassigning attributes.\n",
    "\n",
    "This can be on any object: an instance of an object, the class itself, a module or a package."
   ]
  },
  {
   "cell_type": "code",
   "execution_count": 19,
   "metadata": {},
   "outputs": [],
   "source": [
    "import time\n",
    "\n",
    "class Timer(object):\n",
    "    \n",
    "    def sleep(self, s):\n",
    "        print('sleeping for %i seconds...' % s)\n",
    "        time.sleep(s)\n",
    "        print('done sleeping')\n",
    "\n",
    "timer = Timer()\n",
    "\n",
    "def expensive_operation():\n",
    "    print('performing expensive thingy')\n",
    "    timer.sleep(4)\n",
    "    print('done with it')\n",
    "\n",
    "# We want to test this awesome code.\n",
    "def some_awesome_code(a, b, c):\n",
    "    expensive_operation()\n",
    "    return sum([a, b, c])\n"
   ]
  },
  {
   "cell_type": "code",
   "execution_count": 20,
   "metadata": {},
   "outputs": [
    {
     "name": "stdout",
     "output_type": "stream",
     "text": [
      "performing expensive thingy\n",
      "sleeping for 4 seconds...\n",
      "done sleeping\n",
      "done with it\n",
      "6\n"
     ]
    }
   ],
   "source": [
    "# Expect 1 + 2 + 3 == 6\n",
    "print(some_awesome_code(1, 2, 3))\n"
   ]
  },
  {
   "cell_type": "code",
   "execution_count": 21,
   "metadata": {},
   "outputs": [],
   "source": [
    "# Let's make this fast by monkey patching the timer instance attribute.\n",
    "\n",
    "def fast_sleep(seconds):\n",
    "    print('waiting %i seconds.. not!' % seconds)\n",
    "    return\n",
    "\n",
    "timer.sleep = fast_sleep\n"
   ]
  },
  {
   "cell_type": "code",
   "execution_count": 22,
   "metadata": {},
   "outputs": [
    {
     "name": "stdout",
     "output_type": "stream",
     "text": [
      "performing expensive thingy\n",
      "waiting 4 seconds.. not!\n",
      "done with it\n"
     ]
    },
    {
     "data": {
      "text/plain": [
       "6"
      ]
     },
     "execution_count": 22,
     "metadata": {},
     "output_type": "execute_result"
    }
   ],
   "source": [
    "some_awesome_code(1, 2, 3)\n"
   ]
  },
  {
   "cell_type": "markdown",
   "metadata": {},
   "source": [
    "#### More About Patching\n",
    "- Patching can be on any object: an instance of an object, the class itself, a module or a package.\n",
    "- patching the instance\n",
    "``` timer.sleep = fast_sleep ```\n",
    "\n",
    "- patching the Timer class\n",
    "``` Timer.sleep = fast_sleep ```\n",
    "\n",
    "- patching the module directly\n",
    "``` time.sleep = fast_sleep ```\n",
    "\n",
    "#### What's the difference?\n",
    "\n",
    "\n",
    " \n",
    "\n"
   ]
  },
  {
   "cell_type": "markdown",
   "metadata": {},
   "source": [
    "#### Patching Rules\n",
    "\n",
    "- Remember unittest guidelines: no side-effects (clean up after yourself)\n",
    "```\n",
    "original_sleep = time.sleep\n",
    "time.sleep = fast_sleep\n",
    "# ... do the tests\n",
    "# finally:\n",
    "time.sleep = original_sleep\n",
    "```\n",
    "- Just avoid this and patch the instance!\n"
   ]
  },
  {
   "cell_type": "markdown",
   "metadata": {},
   "source": [
    "# Template method\n",
    "#####  A mocking technique using inheritance and donuts\n",
    "\n",
    "<img src=\"files/donut-inheritance.jpg\" height=\"55%\" width=\"55%\" align=\"left\">\n"
   ]
  },
  {
   "cell_type": "markdown",
   "metadata": {},
   "source": [
    "##### What is one way we normally override behavior?"
   ]
  },
  {
   "cell_type": "markdown",
   "metadata": {},
   "source": [
    "#### Definition\n",
    "Change behaviors by inheriting from the class-under-test and overriding behavior.\n",
    "\n",
    "This applies to classes only."
   ]
  },
  {
   "cell_type": "code",
   "execution_count": 23,
   "metadata": {},
   "outputs": [],
   "source": [
    "# Template method is only for classes, so refactor as such:\n",
    "\n",
    "class MyTestableAwesomeCode(object):\n",
    "\n",
    "    def _expensive_operation(self):\n",
    "        print('performing expensive thingy')\n",
    "        time.sleep(4)\n",
    "        print('done with it')\n",
    "\n",
    "    # We want to test this method\n",
    "    def some_awesome_code(self, a, b, c):\n",
    "        self._expensive_operation()\n",
    "        return sum([a, b, c])"
   ]
  },
  {
   "cell_type": "code",
   "execution_count": 24,
   "metadata": {},
   "outputs": [
    {
     "name": "stdout",
     "output_type": "stream",
     "text": [
      "performing expensive thingy\n",
      "done with it\n",
      "6\n"
     ]
    }
   ],
   "source": [
    "# Expect 1 + 2 + 3 == 6\n",
    "m = MyTestableAwesomeCode()\n",
    "print(m.some_awesome_code(1, 2, 3))"
   ]
  },
  {
   "cell_type": "code",
   "execution_count": 25,
   "metadata": {},
   "outputs": [],
   "source": [
    "# lets make it fast by inheriting from class-under-test and overriding the slow method.\n",
    "\n",
    "class MyTestableAwesomeCodeFast(MyTestableAwesomeCode):\n",
    "    \n",
    "    def _expensive_operation(self):\n",
    "        print('damn fast now')"
   ]
  },
  {
   "cell_type": "code",
   "execution_count": 26,
   "metadata": {},
   "outputs": [
    {
     "name": "stdout",
     "output_type": "stream",
     "text": [
      "damn fast now\n",
      "6\n"
     ]
    }
   ],
   "source": [
    "m = MyTestableAwesomeCodeFast()\n",
    "print(m.some_awesome_code(1, 2, 3))"
   ]
  },
  {
   "cell_type": "markdown",
   "metadata": {},
   "source": [
    "##### What do you like about this method vs patching?  What do you dislike?"
   ]
  },
  {
   "cell_type": "markdown",
   "metadata": {},
   "source": [
    "#### More About Classes\n",
    "1. Use classes almost always for the benefit of code organization, OOP and...\n",
    "2. For testability! Patch that instance or template it.\n",
    "3. Multiple levels of inheritance is stinky (1-2 okay).\n"
   ]
  },
  {
   "cell_type": "markdown",
   "metadata": {},
   "source": [
    "# Dependency Injection\n",
    "##### It's like a flu shot without the side-effects\n",
    "\n",
    "<img src=\"files/injection.jpg\" height=\"50%\" width=\"50%\" align=\"left\">\n"
   ]
  },
  {
   "cell_type": "markdown",
   "metadata": {},
   "source": [
    "#### Definition\n",
    "\n",
    "Fancytalk for \"pass in objects as parameters\" (so that you can provide objects with mocked behaviors later)"
   ]
  },
  {
   "cell_type": "code",
   "execution_count": 27,
   "metadata": {},
   "outputs": [],
   "source": [
    "# requires refactoring: make dependencies inputs\n",
    "\n",
    "import time\n",
    "\n",
    "def expensive_operation():\n",
    "    print('performing expensive thingy')\n",
    "    time.sleep(4)\n",
    "    print('done with it')\n",
    "\n",
    "def some_awesome_code(a, b, c, expensive_operation=expensive_operation):\n",
    "    expensive_operation()\n",
    "    return sum([a, b, c])"
   ]
  },
  {
   "cell_type": "code",
   "execution_count": 28,
   "metadata": {},
   "outputs": [
    {
     "name": "stdout",
     "output_type": "stream",
     "text": [
      "performing expensive thingy\n",
      "done with it\n"
     ]
    },
    {
     "data": {
      "text/plain": [
       "6"
      ]
     },
     "execution_count": 28,
     "metadata": {},
     "output_type": "execute_result"
    }
   ],
   "source": [
    "# Expect 1 + 2 + 3 == 6\n",
    "some_awesome_code(1, 2, 3)"
   ]
  },
  {
   "cell_type": "code",
   "execution_count": 29,
   "metadata": {},
   "outputs": [
    {
     "data": {
      "text/plain": [
       "6"
      ]
     },
     "execution_count": 29,
     "metadata": {},
     "output_type": "execute_result"
    }
   ],
   "source": [
    "# Let's make this fast by providing a fake expensive operation\n",
    "some_awesome_code(1, 2, 3, expensive_operation=lambda: None)\n"
   ]
  },
  {
   "cell_type": "markdown",
   "metadata": {},
   "source": [
    "##### What do you like about this method over the others? Dislike?"
   ]
  },
  {
   "cell_type": "markdown",
   "metadata": {},
   "source": [
    "# Patching vs Template Method vs Dependency Injection\n",
    "##### Monkeys, donuts and injections\n",
    "<img src=\"files/monkey-donut.jpg\" height=\"60%\" width=\"60%\" align=\"left\">"
   ]
  },
  {
   "cell_type": "markdown",
   "metadata": {},
   "source": [
    "#### Patching\n",
    "- Patching dynamically changes behavior by reassigning datamembers to new ones.\n",
    "- Patching may be used on an object (luckily everything in Python is an object).\n",
    "- Can only mock behavior that is an attribute of that object.\n",
    "- Avoid patching globals like modules, packages, classes, if possible. Or restore the original behavior.\n",
    "\n",
    "#### Template Method\n",
    "- Template method statically defines new behavior (by creating a new class).\n",
    "- Applicable to classes only.\n",
    "- Can only mock behavior that is part of self.\n",
    "- More code than patching due to typing out a new class.\n",
    "\n",
    "#### Dependency Injection\n",
    "- Fancytalk for \"pass in objects as parameters\"\n",
    "- Requires you to provide dependencies as inputs.\n",
    "- Dependencies are exposed in the interface.\n",
    "- Less knowledge of class under test required."
   ]
  },
  {
   "cell_type": "markdown",
   "metadata": {},
   "source": [
    "# Testing in Python HOWTO\n",
    "##### Using popular testing frameworks\n",
    "<img src=\"files/goat-testing.jpg\" align=\"left\">\n"
   ]
  },
  {
   "cell_type": "markdown",
   "metadata": {},
   "source": [
    "##### What frameworks are available in Python for writing unit tests?\n",
    "1. Unittest\n",
    "2. doctest\n",
    "3. pytest\n",
    "4. [and many more](https://wiki.python.org/moin/PythonTestingToolsTaxonomy)\n",
    "\n",
    "##### \tWhat follows are simple examples and then those requiring setup/teardown."
   ]
  },
  {
   "cell_type": "markdown",
   "metadata": {},
   "source": [
    "# Unittest (standard library)\n",
    "- [Unittest](https://docs.python.org/2/library/unittest.html) is available in Python 2 and 3 standard library\n",
    "- Unittest supports test automation by writing classes."
   ]
  },
  {
   "cell_type": "code",
   "execution_count": 30,
   "metadata": {},
   "outputs": [
    {
     "name": "stderr",
     "output_type": "stream",
     "text": [
      "test_fib_series (__main__.TestFib) ... ok\n",
      "\n",
      "----------------------------------------------------------------------\n",
      "Ran 1 test in 0.003s\n",
      "\n",
      "OK\n"
     ]
    }
   ],
   "source": [
    "import unittest\n",
    "\n",
    "def fib(n):\n",
    "    \"\"\"Return the n-th number in the fibonacci series.\"\"\"\n",
    "    if n <= 0:\n",
    "        return 0\n",
    "    elif n == 1:\n",
    "        return 1\n",
    "    return fib(n-1) + fib(n-2)\n",
    "\n",
    "class TestFib(unittest.TestCase):\n",
    "    \n",
    "    def test_fib_series(self):\n",
    "        self.assertEqual(fib(0), 0)\n",
    "        self.assertEqual(fib(1), 1)\n",
    "        self.assertEqual(fib(2), 1)\n",
    "        self.assertEqual(fib(3), 2)\n",
    "        self.assertEqual(fib(4), 3)\n",
    "        self.assertEqual(fib(5), 5)\n",
    "\n",
    "if __name__ == \"__main__\":\n",
    "    #normally this is unittest.main()...this is for jupyter\n",
    "    unittest.main(argv=['first-arg-is-ignored'], exit=False, verbosity=2)\n"
   ]
  },
  {
   "cell_type": "markdown",
   "metadata": {},
   "source": [
    "# Doctest (standard library)\n",
    "- [Doctest](https://docs.python.org/2/library/doctest.html) is available in Python 2 and 3 standard library\n",
    "- Doctest allows you to write tests in your docstrings."
   ]
  },
  {
   "cell_type": "code",
   "execution_count": 31,
   "metadata": {},
   "outputs": [
    {
     "name": "stdout",
     "output_type": "stream",
     "text": [
      "Trying:\n",
      "    StockPicker._is_good_buy(89.99, 100.0)\n",
      "Expecting:\n",
      "    True\n",
      "ok\n",
      "Trying:\n",
      "    StockPicker._is_good_buy(90.00, 100.0)\n",
      "Expecting:\n",
      "    False\n",
      "ok\n",
      "Trying:\n",
      "    fib(0)\n",
      "Expecting:\n",
      "    0\n",
      "ok\n",
      "Trying:\n",
      "    fib(1)\n",
      "Expecting:\n",
      "    1\n",
      "ok\n",
      "Trying:\n",
      "    fib(29)\n",
      "Expecting:\n",
      "    514229\n",
      "ok\n",
      "30 items had no tests:\n",
      "    __main__\n",
      "    __main__.MyClass\n",
      "    __main__.MyClass.__init__\n",
      "    __main__.MyClass.some_method\n",
      "    __main__.MyTestableAwesomeCode\n",
      "    __main__.MyTestableAwesomeCode._expensive_operation\n",
      "    __main__.MyTestableAwesomeCode.some_awesome_code\n",
      "    __main__.MyTestableAwesomeCodeFast\n",
      "    __main__.MyTestableAwesomeCodeFast._expensive_operation\n",
      "    __main__.SomeClass\n",
      "    __main__.SomeClass.hello_world\n",
      "    __main__.StockPicker\n",
      "    __main__.StockPicker.__init__\n",
      "    __main__.StockPicker.is_good_buy\n",
      "    __main__.StockPricesAPI\n",
      "    __main__.StockPricesAPI.get_1_yr_avg_price\n",
      "    __main__.StockPricesAPI.get_1_yr_price_data\n",
      "    __main__.StockPricesAPI.get_current_price\n",
      "    __main__.TestFib\n",
      "    __main__.TestFib.test_fib_series\n",
      "    __main__.Timer\n",
      "    __main__.Timer.sleep\n",
      "    __main__.bye_world\n",
      "    __main__.expensive_operation\n",
      "    __main__.fast_sleep\n",
      "    __main__.is_balanced\n",
      "    __main__.mocked_module\n",
      "    __main__.some_awesome_code\n",
      "    __main__.test_get_1_yr_avg_price\n",
      "    __main__.test_is_balanced\n",
      "2 items passed all tests:\n",
      "   2 tests in __main__.StockPicker._is_good_buy\n",
      "   3 tests in __main__.fib\n",
      "5 tests in 32 items.\n",
      "5 passed and 0 failed.\n",
      "Test passed.\n"
     ]
    }
   ],
   "source": [
    "def fib(n):\n",
    "    \"\"\"Return the n-th number in the fibonacci series.\n",
    "    \n",
    "    >>> fib(0)\n",
    "    0\n",
    "    >>> fib(1)\n",
    "    1\n",
    "    >>> fib(29)\n",
    "    514229\n",
    "    \"\"\"\n",
    "    if n <= 0:\n",
    "        return 0\n",
    "    elif n == 1:\n",
    "        return 1\n",
    "    return fib(n-1) + fib(n-2)\n",
    "\n",
    "\n",
    "if __name__ == \"__main__\":\n",
    "    import doctest\n",
    "    #doctest.testmod()\n",
    "    doctest.testmod(verbose=True)\n"
   ]
  },
  {
   "cell_type": "markdown",
   "metadata": {},
   "source": [
    "##### What is so awesome about doctest?"
   ]
  },
  {
   "cell_type": "markdown",
   "metadata": {},
   "source": [
    "# Pytest (third party)\n",
    "- [Pytest](https://docs.pytest.org/en/latest/) is available for Python 2.6+ and 3.3+ as a third-party package\n",
    "- Combines doctest's simplicity and unittest's advanced features into a simple and powerful framework.\n",
    "- Test discovery: for doctests, unittests and pytests.\n"
   ]
  },
  {
   "cell_type": "markdown",
   "metadata": {},
   "source": [
    "<img src=\"files/pytest.png\" align=\"left\">"
   ]
  },
  {
   "cell_type": "code",
   "execution_count": 32,
   "metadata": {},
   "outputs": [],
   "source": [
    "# Running pytest in jupyter requires some magic.\n",
    "# See: http://cprohm.de/article/ipytest-running-pytest-in-ipython-notebooks.html\n",
    "__file__ = 'Python Testing.ipynb'\n",
    "import ipytest.magics\n",
    "import pytest"
   ]
  },
  {
   "cell_type": "code",
   "execution_count": 33,
   "metadata": {},
   "outputs": [
    {
     "name": "stdout",
     "output_type": "stream",
     "text": [
      "============================= test session starts =============================\n",
      "platform win32 -- Python 3.6.3, pytest-3.5.0, py-1.5.3, pluggy-0.6.0 -- c:\\dev\\venvs\\testing\\scripts\\python.exe\n",
      "cachedir: .pytest_cache\n",
      "rootdir: c:\\dev\\repos\\python_testing\\jupyter_presentation, inifile: pytest.ini\n",
      "plugins: django-3.1.2, cov-2.5.1\n",
      "collecting ... collected 5 items\n",
      "\n",
      "Python Testing.py::test_fib_series <- <ipython-input-33-924d9391d5e6> PASSED [ 20%]\n",
      "Python Testing.py::test_fib_with_params[29-514229] <- <ipython-input-33-924d9391d5e6> PASSED [ 40%]\n",
      "Python Testing.py::test_fib_with_params[30-832040] <- <ipython-input-33-924d9391d5e6> PASSED [ 60%]\n",
      "Python Testing.py::test_fib_with_params[31-1346269] <- <ipython-input-33-924d9391d5e6> PASSED [ 80%]\n",
      "Python Testing.py::TestFib::test_fib_series <- <ipython-input-30-37a129f9e642> PASSED [100%]\n",
      "\n",
      "========================== slowest 5 test durations ===========================\n",
      "0.80s call     Python Testing.py::test_fib_with_params[31-1346269]\n",
      "0.48s call     Python Testing.py::test_fib_with_params[30-832040]\n",
      "0.30s call     Python Testing.py::test_fib_with_params[29-514229]\n",
      "0.00s setup    Python Testing.py::test_fib_series\n",
      "0.00s teardown Python Testing.py::TestFib::test_fib_series\n",
      "============================== warnings summary ===============================\n",
      "None\n",
      "  Module already imported so cannot be rewritten: pytest_django\n",
      "  Module already imported so cannot be rewritten: pytest_cov\n",
      "\n",
      "-- Docs: http://doc.pytest.org/en/latest/warnings.html\n",
      "==================== 5 passed, 2 warnings in 1.72 seconds =====================\n"
     ]
    }
   ],
   "source": [
    "%%run_pytest[clean] -vvv\n",
    "\n",
    "def fib(n):\n",
    "    \"\"\"Return the n-th number in the fibonacci series.\"\"\"\n",
    "    if n <= 0:\n",
    "        return 0\n",
    "    elif n == 1:\n",
    "        return 1\n",
    "    return fib(n-1) + fib(n-2)\n",
    "\n",
    "def test_fib_series():\n",
    "    assert fib(0) == 0\n",
    "    assert fib(1) == 1\n",
    "    assert fib(2) == 1\n",
    "    assert fib(3) == 2\n",
    "    assert fib(4) == 3\n",
    "    assert fib(5) == 5\n",
    "    \n",
    "@pytest.mark.parametrize('input,expected', ((29, 514229), (30, 832040), (31, 1346269)))\n",
    "def test_fib_with_params(input, expected):\n",
    "    assert fib(input) == expected\n"
   ]
  },
  {
   "cell_type": "markdown",
   "metadata": {},
   "source": [
    "##### What is great about pytest over unittest?"
   ]
  },
  {
   "cell_type": "markdown",
   "metadata": {},
   "source": [
    "# Setup and teardown\n",
    "\n",
    "Both unittest and pytest support running the same code before and after every test.\n"
   ]
  },
  {
   "cell_type": "markdown",
   "metadata": {},
   "source": [
    "#### Unittest setup and teardown"
   ]
  },
  {
   "cell_type": "code",
   "execution_count": 34,
   "metadata": {},
   "outputs": [
    {
     "name": "stdout",
     "output_type": "stream",
     "text": [
      "patching a global module\n",
      "in test one\n",
      "unpatching\n",
      "patching a global module\n",
      "in test two\n",
      "unpatching\n"
     ]
    },
    {
     "name": "stderr",
     "output_type": "stream",
     "text": [
      "----------------------------------------------------------------------\n",
      "Ran 3 tests in 0.000s\n",
      "\n",
      "OK\n"
     ]
    }
   ],
   "source": [
    "import traceback\n",
    "import unittest\n",
    "\n",
    "class SomeTestCode(unittest.TestCase):\n",
    "    \n",
    "    def setUp(self):\n",
    "        print('patching a global module')\n",
    "        self.traceback_print_tb = traceback.print_tb\n",
    "        traceback.print_tb = lambda *args, **kwargs: None\n",
    "        \n",
    "    def tearDown(self):\n",
    "        print('unpatching')\n",
    "        traceback.print_tb = self.traceback_print_tb\n",
    "    \n",
    "    def test_one(self):\n",
    "        print('in test one')\n",
    "    \n",
    "    def test_two(self):\n",
    "        print('in test two')\n",
    "       \n",
    "if __name__ == \"__main__\":\n",
    "    #normally this is unittest.main()...this is for jupyter\n",
    "    unittest.main(argv=['first-arg-is-ignored'], exit=False, verbosity=0)\n"
   ]
  },
  {
   "cell_type": "markdown",
   "metadata": {},
   "source": [
    "#### Pytest setup and teardown\n",
    "\n",
    "Pytest provides \"fixtures\" for setup and teardown.\n"
   ]
  },
  {
   "cell_type": "code",
   "execution_count": 35,
   "metadata": {},
   "outputs": [
    {
     "name": "stdout",
     "output_type": "stream",
     "text": [
      "============================= test session starts =============================\n",
      "platform win32 -- Python 3.6.3, pytest-3.5.0, py-1.5.3, pluggy-0.6.0\n",
      "rootdir: c:\\dev\\repos\\python_testing\\jupyter_presentation, inifile: pytest.ini\n",
      "plugins: django-3.1.2, cov-2.5.1\n",
      "collected 5 items\n",
      "\n",
      "Python Testing.py FF...                                                  [100%]\n",
      "\n",
      "================================== FAILURES ===================================\n",
      "__________________________________ test_one ___________________________________\n",
      "<ipython-input-35-3f12ed823e60>:15: in test_one\n",
      "    raise Exception(\"boo one!\")\n",
      "E   Exception: boo one!\n",
      "---------------------------- Captured stdout setup ----------------------------\n",
      "patching\n",
      "---------------------------- Captured stdout call -----------------------------\n",
      "in test one\n",
      "-------------------------- Captured stdout teardown ---------------------------\n",
      "unpatching\n",
      "__________________________________ test_two ___________________________________\n",
      "<ipython-input-35-3f12ed823e60>:19: in test_two\n",
      "    raise Exception(\"boo two!\")\n",
      "E   Exception: boo two!\n",
      "---------------------------- Captured stdout setup ----------------------------\n",
      "patching\n",
      "---------------------------- Captured stdout call -----------------------------\n",
      "in test two\n",
      "-------------------------- Captured stdout teardown ---------------------------\n",
      "unpatching\n",
      "=========================== short test summary info ===========================\n",
      "FAIL Python Testing.py::test_one\n",
      "FAIL Python Testing.py::test_two\n",
      "========================== slowest 5 test durations ===========================\n",
      "0.00s setup    Python Testing.py::test_one\n",
      "0.00s teardown Python Testing.py::SomeTestCode::test_one\n",
      "0.00s call     Python Testing.py::SomeTestCode::test_one\n",
      "0.00s teardown Python Testing.py::test_one\n",
      "0.00s call     Python Testing.py::test_two\n",
      "============================== warnings summary ===============================\n",
      "None\n",
      "  Module already imported so cannot be rewritten: pytest_django\n",
      "  Module already imported so cannot be rewritten: pytest_cov\n",
      "\n",
      "-- Docs: http://doc.pytest.org/en/latest/warnings.html\n",
      "=============== 2 failed, 3 passed, 2 warnings in 0.25 seconds ================\n"
     ]
    }
   ],
   "source": [
    "%%run_pytest[clean] -qq\n",
    "\n",
    "import pytest\n",
    "\n",
    "@pytest.fixture(scope='function')\n",
    "def mocked_module():\n",
    "    print('patching')\n",
    "    traceback_print_tb = traceback.print_tb\n",
    "    traceback.print_tb = lambda *args, **kwargs: None\n",
    "    yield\n",
    "    print('unpatching')\n",
    "    traceback.print_tb = traceback_print_tb\n",
    "\n",
    "def test_one(mocked_module):\n",
    "    print('in test one')\n",
    "    raise Exception(\"boo one!\")\n",
    "    \n",
    "def test_two(mocked_module):\n",
    "    print('in test two')\n",
    "    raise Exception(\"boo two!\")\n",
    "\n",
    "# Note that if an exception happens during the setup code (before the yield keyword),\n",
    "# the teardown code (after the yield) will not be called.\n",
    "\n",
    "# A second pattern may be employed to ensure teardown happens even when\n",
    "# setup fails (use a \"finalizer\")\n"
   ]
  },
  {
   "cell_type": "markdown",
   "metadata": {},
   "source": [
    "# Frameworks Summary\n",
    "##### Pytest vs Unittest vs Doctest\n",
    "<img src=\"files/fight.jpg\" align=\"left\">\n"
   ]
  },
  {
   "cell_type": "markdown",
   "metadata": {},
   "source": [
    "\n",
    "#### Unittest: \n",
    "- Familiar class-based JUnit-like syntax.\n",
    "- Powerful enough to do all you need.\n",
    "\n",
    "#### Doctest: \n",
    "- Tests are both documentation and actual tests!\n",
    "- Great for simple tests (e.g. functions with simple inputs and outputs).\n",
    "\n",
    "#### Pytest\n",
    "- Finds and runs all your doctests, unittests and pytests.\n",
    "- Does everything unittest does but in fewer lines of code.\n",
    "- Great plugins: generate coverage, get a library of django fixtures, etc.\n",
    "\n",
    "\n"
   ]
  },
  {
   "cell_type": "markdown",
   "metadata": {},
   "source": [
    "# Pytest vs Unittest\n",
    "##### Pytest wins!\n",
    "<img src=\"files/pytestvsdoctest.png\" align=\"left\">\n"
   ]
  },
  {
   "cell_type": "markdown",
   "metadata": {},
   "source": [
    "See also these great videos:\n",
    "- [Pytest vs Unittest by Renzo Nuccitelli](https://www.youtube.com/watch?v=572xUCFCUho)\n",
    "- [My Lightning Talk on Adopting Pytest](https://www.youtube.com/watch?v=sWp445cWDyA)"
   ]
  },
  {
   "cell_type": "markdown",
   "metadata": {},
   "source": [
    "# Demo / Example\n",
    "##### It's getting real\n",
    "<br>\n",
    "<img src=\"files/choose-your-own.jpg\" align=\"left\">\n"
   ]
  },
  {
   "cell_type": "markdown",
   "metadata": {},
   "source": [
    "## Pytest\n",
    "1. run pytests via debugger\n",
    "2. run pytests in cmd line\n",
    "3. generate coverage report\n",
    "4. configuration: pytest.ini and .coveragerc\n",
    "\n",
    "## Stock Picker Problem\n",
    "Use TDD to implement a stock picker. Stock data gotten from:\n",
    "- https://api.iextrading.com/1.0/stock/aapl/chart/1y\n",
    "- https://api.iextrading.com/1.0/stock/aapl/price\n"
   ]
  },
  {
   "cell_type": "markdown",
   "metadata": {},
   "source": [
    "# Stock Picker Problem\n",
    "\n",
    "<img src=\"files/stock-picker.jpg\" align=\"left\">\n"
   ]
  },
  {
   "cell_type": "markdown",
   "metadata": {},
   "source": [
    "\n",
    "## Task:\n",
    "- build a stock picker; it identifies good stocks to buy.\n",
    "- first part of stock picking is to determine if a given stock is a good buy.\n",
    "- we define a stock is a good buy if its current price is less than 10% of its 1 year average price.\n",
    "- price data is given by the following APIs:\n",
    "  - 1 year average obtained from: https://api.iextrading.com/1.0/stock/aapl/chart/1y\n",
    "  - current price: https://api.iextrading.com/1.0/stock/aapl/price\n",
    "\n",
    "#### To make this simpler, the following template is already implemented."
   ]
  },
  {
   "cell_type": "code",
   "execution_count": 36,
   "metadata": {},
   "outputs": [],
   "source": [
    "class StockPicker:\n",
    "\n",
    "    def __init__(self):\n",
    "        pass\n",
    "\n",
    "    def is_good_buy(self, ticker: str) -> bool:\n",
    "        \"\"\"\"Return True if the stock is a good buy.\n",
    "\n",
    "        A stock is a good buy if its current price is less than 10% of its 1 year average price.\n",
    "        \"\"\"\n",
    "        pass\n"
   ]
  },
  {
   "cell_type": "markdown",
   "metadata": {},
   "source": [
    "##### What dependencies may require mocking out?\n",
    "<br>\n",
    "<br>\n",
    "<br>\n",
    "<br>\n",
    "##### What code may introduce bugs and require special attention (testing)?\n",
    "<br>\n",
    "<br>\n",
    "<br>\n",
    "<br>\n",
    "##### How may we seperate the good-buy determination from fetching data?\n",
    "<br>\n",
    "<br>\n",
    "<br>\n",
    "<br>\n",
    "##### Lets start with testing the good-buy determination; what are the two simplest test cases for this method?\n",
    "<br>\n",
    "<br>"
   ]
  },
  {
   "cell_type": "code",
   "execution_count": 37,
   "metadata": {},
   "outputs": [
    {
     "name": "stdout",
     "output_type": "stream",
     "text": [
      "Trying:\n",
      "    StockPicker._is_good_buy(89.99, 100.0)\n",
      "Expecting:\n",
      "    True\n",
      "ok\n",
      "Trying:\n",
      "    StockPicker._is_good_buy(90.00, 100.0)\n",
      "Expecting:\n",
      "    False\n",
      "ok\n",
      "36 items had no tests:\n",
      "    __main__\n",
      "    __main__.MyClass\n",
      "    __main__.MyClass.__init__\n",
      "    __main__.MyClass.some_method\n",
      "    __main__.MyTestableAwesomeCode\n",
      "    __main__.MyTestableAwesomeCode._expensive_operation\n",
      "    __main__.MyTestableAwesomeCode.some_awesome_code\n",
      "    __main__.MyTestableAwesomeCodeFast\n",
      "    __main__.MyTestableAwesomeCodeFast._expensive_operation\n",
      "    __main__.SomeClass\n",
      "    __main__.SomeClass.hello_world\n",
      "    __main__.SomeTestCode\n",
      "    __main__.SomeTestCode.setUp\n",
      "    __main__.SomeTestCode.tearDown\n",
      "    __main__.SomeTestCode.test_one\n",
      "    __main__.SomeTestCode.test_two\n",
      "    __main__.StockPicker\n",
      "    __main__.StockPicker.__init__\n",
      "    __main__.StockPicker.is_good_buy\n",
      "    __main__.StockPricesAPI\n",
      "    __main__.StockPricesAPI.get_1_yr_avg_price\n",
      "    __main__.StockPricesAPI.get_1_yr_price_data\n",
      "    __main__.StockPricesAPI.get_current_price\n",
      "    __main__.TestFib\n",
      "    __main__.TestFib.test_fib_series\n",
      "    __main__.Timer\n",
      "    __main__.Timer.sleep\n",
      "    __main__.bye_world\n",
      "    __main__.expensive_operation\n",
      "    __main__.fast_sleep\n",
      "    __main__.fib\n",
      "    __main__.is_balanced\n",
      "    __main__.mocked_module\n",
      "    __main__.some_awesome_code\n",
      "    __main__.test_one\n",
      "    __main__.test_two\n",
      "1 items passed all tests:\n",
      "   2 tests in __main__.StockPicker._is_good_buy\n",
      "2 tests in 37 items.\n",
      "2 passed and 0 failed.\n",
      "Test passed.\n"
     ]
    }
   ],
   "source": [
    "class StockPicker:\n",
    "    GOOD_BUY_THRESHOLD_PCT = 10.0\n",
    "\n",
    "    def __init__(self):\n",
    "        pass\n",
    "\n",
    "    @classmethod\n",
    "    def _is_good_buy(cls, current_price: float, one_yr_avg_price: float) -> bool:\n",
    "        \"\"\"Return True if `current_price` is less than a percentage of `one_yr_avg_price`.\n",
    "\n",
    "        >>> StockPicker._is_good_buy(89.99, 100.0)\n",
    "        True\n",
    "        >>> StockPicker._is_good_buy(90.00, 100.0)\n",
    "        False\n",
    "        \"\"\"\n",
    "        return current_price < (one_yr_avg_price * (1 - (cls.GOOD_BUY_THRESHOLD_PCT / 100)))\n",
    "\n",
    "    def is_good_buy(self, ticker: str) -> bool:\n",
    "        \"\"\"\"Return True if the stock is a good buy.\n",
    "\n",
    "        A stock is a good buy if its current price is less than 10% of its 1 year average price.\n",
    "        \"\"\"\n",
    "        pass\n",
    "\n",
    "if __name__ == \"__main__\":\n",
    "    import doctest\n",
    "    #doctest.testmod()\n",
    "    doctest.testmod(verbose=True)\n"
   ]
  },
  {
   "cell_type": "markdown",
   "metadata": {},
   "source": [
    "##### Now lets implement the data retrieval.\n"
   ]
  },
  {
   "cell_type": "code",
   "execution_count": 38,
   "metadata": {},
   "outputs": [
    {
     "name": "stdout",
     "output_type": "stream",
     "text": [
      "173.25\n",
      "[{'date': '2017-04-10', 'open': 141.3635, 'high': 141.6384, 'low': 140.6744, 'close': 140.9402, 'volume': 18933397, 'unadjustedVolume': 18933397, 'change': -0.167353, 'changePercent': -0.119, 'vwap': 141.1334, 'label': 'Apr 10, 17', 'changeOverTime': 0}, {'date': '2017-04-11', 'open': 140.7138, 'high': 141.1174, 'low': 137.8787, 'close': 139.4242, 'volume': 30379376, 'unadjustedVolume': 30379376, 'change': -1.516, 'changePercent': -1.076, 'vwap': 139.2214, 'label': 'Apr 11, 17', 'changeOverTime': -0.01075633495624379}, {'date': '2017-04-12', 'open': 139.3947, 'high': 139.9361, 'low': 138.8139, 'close': 139.5916, 'volume': 20350000, 'unadjustedVolume': 20350000, 'change': 0.167352, 'changePercent': 0.12, 'vwap': 139.335, 'label': 'Apr 12, 17', 'changeOverTime': -0.009568597178094005}, {'date': '2017-04-13', 'open': 139.6999, 'high': 140.1625, 'low': 138.8532, 'close': 138.8532, 'volume': 17822880, 'unadjustedVolume': 17822880, 'change': -0.738319, 'changePercent': -0.529, 'vwap': 139.5846, 'label': 'Apr 13, 17', 'changeOverTime': -0.014807698584222368}, {'date': '2017-04-17', 'open': 139.2765, 'high': 139.6703, 'low': 138.676, 'close': 139.6211, 'volume': 16582094, 'unadjustedVolume': 16582094, 'change': 0.767853, 'changePercent': 0.553, 'vwap': 139.2085, 'label': 'Apr 17, 17', 'changeOverTime': -0.009359288549327953}, {'date': '2017-04-18', 'open': 139.2076, 'high': 139.8278, 'low': 138.9123, 'close': 139.0009, 'volume': 14697544, 'unadjustedVolume': 14697544, 'change': -0.620189, 'changePercent': -0.444, 'vwap': 139.2654, 'label': 'Apr 18, 17', 'changeOverTime': -0.013759736398841515}, {'date': '2017-04-19', 'open': 139.6703, 'high': 139.7885, 'low': 138.2626, 'close': 138.489, 'volume': 17328375, 'unadjustedVolume': 17328375, 'change': -0.511901, 'changePercent': -0.368, 'vwap': 139.0106, 'label': 'Apr 19, 17', 'changeOverTime': -0.01739177324851249}, {'date': '2017-04-20', 'open': 139.0206, 'high': 140.6941, 'low': 138.9615, 'close': 140.2216, 'volume': 23319562, 'unadjustedVolume': 23319562, 'change': 1.7326, 'changePercent': 1.251, 'vwap': 140.0774, 'label': 'Apr 20, 17', 'changeOverTime': -0.005098616292583728}, {'date': '2017-04-21', 'open': 140.2216, 'high': 140.4579, 'low': 139.6408, 'close': 140.0542, 'volume': 17320928, 'unadjustedVolume': 17320928, 'change': -0.167351, 'changePercent': -0.119, 'vwap': 140.044, 'label': 'Apr 21, 17', 'changeOverTime': -0.006286354070733515}, {'date': '2017-04-24', 'open': 141.2651, 'high': 141.7081, 'low': 140.9501, 'close': 141.4029, 'volume': 17134333, 'unadjustedVolume': 17134333, 'change': 1.3487, 'changePercent': 0.963, 'vwap': 141.4296, 'label': 'Apr 24, 17', 'changeOverTime': 0.00328295262813579}, {'date': '2017-04-25', 'open': 141.6687, 'high': 142.6433, 'low': 141.6293, 'close': 142.279, 'volume': 18871501, 'unadjustedVolume': 18871501, 'change': 0.87614, 'changePercent': 0.62, 'vwap': 142.2544, 'label': 'Apr 25, 17', 'changeOverTime': 0.009499064142097087}, {'date': '2017-04-26', 'open': 142.22, 'high': 142.348, 'low': 141.1432, 'close': 141.4423, 'volume': 20041241, 'unadjustedVolume': 20041241, 'change': -0.836761, 'changePercent': -0.588, 'vwap': 141.7939, 'label': 'Apr 26, 17', 'changeOverTime': 0.0035625038136740577}, {'date': '2017-04-27', 'open': 141.681, 'high': 141.9148, 'low': 141.078, 'close': 141.5506, 'volume': 14246347, 'unadjustedVolume': 14246347, 'change': 0.108285, 'changePercent': 0.077, 'vwap': 141.4404, 'label': 'Apr 27, 17', 'changeOverTime': 0.004330914813516644}, {'date': '2017-04-28', 'open': 141.8459, 'high': 142.0526, 'low': 141.0387, 'close': 141.4128, 'volume': 20860358, 'unadjustedVolume': 20860358, 'change': -0.137819, 'changePercent': -0.097, 'vwap': 141.4889, 'label': 'Apr 28, 17', 'changeOverTime': 0.0033531951849082088}, {'date': '2017-05-01', 'open': 142.8402, 'high': 144.9075, 'low': 142.7024, 'close': 144.2971, 'volume': 33602943, 'unadjustedVolume': 33602943, 'change': 2.8844, 'changePercent': 2.04, 'vwap': 143.9926, 'label': 'May 1, 17', 'changeOverTime': 0.02381790291201514}, {'date': '2017-05-02', 'open': 145.2422, 'high': 145.7836, 'low': 144.5531, 'close': 145.2126, 'volume': 45352194, 'unadjustedVolume': 45352194, 'change': 0.915516, 'changePercent': 0.634, 'vwap': 145.1549, 'label': 'May 2, 17', 'changeOverTime': 0.030313565611514704}, {'date': '2017-05-03', 'open': 143.3225, 'high': 145.1929, 'low': 142.0231, 'close': 144.7696, 'volume': 45697034, 'unadjustedVolume': 45697034, 'change': -0.442992, 'changePercent': -0.305, 'vwap': 143.9223, 'label': 'May 3, 17', 'changeOverTime': 0.027170388576147845}, {'date': '2017-05-04', 'open': 144.2381, 'high': 144.8484, 'low': 143.5391, 'close': 144.2479, 'volume': 23371872, 'unadjustedVolume': 23371872, 'change': -0.521745, 'changePercent': -0.36, 'vwap': 144.0523, 'label': 'May 4, 17', 'changeOverTime': 0.023468818690479953}, {'date': '2017-05-05', 'open': 144.4743, 'high': 146.6597, 'low': 144.4743, 'close': 146.6401, 'volume': 27327725, 'unadjustedVolume': 27327725, 'change': 2.3922, 'changePercent': 1.658, 'vwap': 145.9122, 'label': 'May 5, 17', 'changeOverTime': 0.04044197468146054}, {'date': '2017-05-08', 'open': 146.709, 'high': 151.3062, 'low': 146.709, 'close': 150.627, 'volume': 48752413, 'unadjustedVolume': 48752413, 'change': 3.9869, 'changePercent': 2.719, 'vwap': 149.6241, 'label': 'May 8, 17', 'changeOverTime': 0.06872985847898616}, {'date': '2017-05-09', 'open': 151.4736, 'high': 152.4679, 'low': 151.0601, 'close': 151.5917, 'volume': 39130363, 'unadjustedVolume': 39130363, 'change': 0.964736, 'changePercent': 0.64, 'vwap': 151.7182, 'label': 'May 9, 17', 'changeOverTime': 0.0755746054000207}, {'date': '2017-05-10', 'open': 151.2373, 'high': 151.5425, 'low': 149.741, 'close': 150.8731, 'volume': 25805692, 'unadjustedVolume': 25805692, 'change': -0.718631, 'changePercent': -0.474, 'vwap': 150.6942, 'label': 'May 10, 17', 'changeOverTime': 0.07047598910743698}, {'date': '2017-05-11', 'open': 150.6952, 'high': 152.2966, 'low': 150.5568, 'close': 152.1779, 'volume': 27255058, 'unadjustedVolume': 27255058, 'change': 1.3049, 'changePercent': 0.865, 'vwap': 151.4272, 'label': 'May 11, 17', 'changeOverTime': 0.07973381618587166}, {'date': '2017-05-12', 'open': 152.9193, 'high': 154.6195, 'low': 152.8897, 'close': 154.3032, 'volume': 32527017, 'unadjustedVolume': 32527017, 'change': 2.1253, 'changePercent': 1.397, 'vwap': 154.0508, 'label': 'May 12, 17', 'changeOverTime': 0.09481326122710199}, {'date': '2017-05-15', 'open': 154.2142, 'high': 154.8469, 'low': 153.2653, 'close': 153.9078, 'volume': 26009719, 'unadjustedVolume': 26009719, 'change': -0.395396, 'changePercent': -0.256, 'vwap': 153.7979, 'label': 'May 15, 17', 'changeOverTime': 0.0920078160808627}, {'date': '2017-05-16', 'open': 154.145, 'high': 154.2637, 'low': 152.9391, 'close': 153.6804, 'volume': 20048478, 'unadjustedVolume': 20048478, 'change': -0.227353, 'changePercent': -0.148, 'vwap': 153.5201, 'label': 'May 16, 17', 'changeOverTime': 0.090394365837426}, {'date': '2017-05-17', 'open': 151.832, 'high': 152.7908, 'low': 147.9867, 'close': 148.5205, 'volume': 50767678, 'unadjustedVolume': 50767678, 'change': -5.1599, 'changePercent': -3.358, 'vwap': 149.7715, 'label': 'May 17, 17', 'changeOverTime': 0.053783803343545655}, {'date': '2017-05-18', 'open': 149.5288, 'high': 151.575, 'low': 149.3904, 'close': 150.7842, 'volume': 33568215, 'unadjustedVolume': 33568215, 'change': 2.2636, 'changePercent': 1.524, 'vwap': 150.703, 'label': 'May 18, 17', 'changeOverTime': 0.06984522513803722}, {'date': '2017-05-19', 'open': 151.6145, 'high': 152.2076, 'low': 150.8731, 'close': 151.2982, 'volume': 26960788, 'unadjustedVolume': 26960788, 'change': 0.514014, 'changePercent': 0.341, 'vwap': 151.5542, 'label': 'May 19, 17', 'changeOverTime': 0.07349216192399333}, {'date': '2017-05-22', 'open': 152.2274, 'high': 152.8007, 'low': 151.1499, 'close': 152.2175, 'volume': 22966437, 'unadjustedVolume': 22966437, 'change': 0.919295, 'changePercent': 0.608, 'vwap': 151.992, 'label': 'May 22, 17', 'changeOverTime': 0.08001478641296093}, {'date': '2017-05-23', 'open': 153.117, 'high': 153.117, 'low': 151.5453, 'close': 152.0297, 'volume': 19918871, 'unadjustedVolume': 19918871, 'change': -0.187813, 'changePercent': -0.123, 'vwap': 152.0609, 'label': 'May 23, 17', 'changeOverTime': 0.0786823063966135}, {'date': '2017-05-24', 'open': 152.0692, 'high': 152.3954, 'low': 150.9127, 'close': 151.575, 'volume': 19219154, 'unadjustedVolume': 19219154, 'change': -0.454705, 'changePercent': -0.299, 'vwap': 151.4928, 'label': 'May 24, 17', 'changeOverTime': 0.07545611543051581}, {'date': '2017-05-25', 'open': 151.9605, 'high': 152.5733, 'low': 151.2685, 'close': 152.0989, 'volume': 19235598, 'unadjustedVolume': 19235598, 'change': 0.5239, 'changePercent': 0.346, 'vwap': 152.0244, 'label': 'May 25, 17', 'changeOverTime': 0.07917329477324413}, {'date': '2017-05-26', 'open': 152.2274, 'high': 152.4646, 'low': 151.5453, 'close': 151.8419, 'volume': 21927637, 'unadjustedVolume': 21927637, 'change': -0.257008, 'changePercent': -0.169, 'vwap': 151.9104, 'label': 'May 26, 17', 'changeOverTime': 0.07734982638026627}, {'date': '2017-05-30', 'open': 151.654, 'high': 152.6524, 'low': 151.5651, 'close': 151.9012, 'volume': 20126851, 'unadjustedVolume': 20126851, 'change': 0.059309, 'changePercent': 0.039, 'vwap': 152.0774, 'label': 'May 30, 17', 'changeOverTime': 0.07777057220012448}, {'date': '2017-05-31', 'open': 152.1977, 'high': 152.3954, 'low': 150.626, 'close': 151.0016, 'volume': 24451164, 'unadjustedVolume': 24451164, 'change': -0.899525, 'changePercent': -0.592, 'vwap': 151.1708, 'label': 'May 31, 17', 'changeOverTime': 0.07138772330392601}, {'date': '2017-06-01', 'open': 151.4069, 'high': 151.5651, 'low': 150.4679, 'close': 151.4168, 'volume': 16404088, 'unadjustedVolume': 16404088, 'change': 0.415166, 'changePercent': 0.275, 'vwap': 151.1242, 'label': 'Jun 1, 17', 'changeOverTime': 0.07433365356370993}, {'date': '2017-06-02', 'open': 151.8122, 'high': 153.6607, 'low': 151.1301, 'close': 153.6607, 'volume': 27770715, 'unadjustedVolume': 27770715, 'change': 2.2439, 'changePercent': 1.482, 'vwap': 152.8437, 'label': 'Jun 2, 17', 'changeOverTime': 0.09025459024465686}, {'date': '2017-06-05', 'open': 152.5635, 'high': 152.6722, 'low': 151.6936, 'close': 152.1582, 'volume': 25331662, 'unadjustedVolume': 25331662, 'change': -1.5025, 'changePercent': -0.978, 'vwap': 152.1173, 'label': 'Jun 5, 17', 'changeOverTime': 0.07959404059310253}, {'date': '2017-06-06', 'open': 152.1285, 'high': 154.0165, 'low': 152.0099, 'close': 152.6722, 'volume': 26624926, 'unadjustedVolume': 26624926, 'change': 0.514014, 'changePercent': 0.338, 'vwap': 152.8816, 'label': 'Jun 6, 17', 'changeOverTime': 0.08324097737905863}, {'date': '2017-06-07', 'open': 153.2356, 'high': 154.1846, 'low': 152.7018, 'close': 153.5816, 'volume': 21069647, 'unadjustedVolume': 21069647, 'change': 0.909411, 'changePercent': 0.596, 'vwap': 153.5543, 'label': 'Jun 7, 17', 'changeOverTime': 0.08969335931125402}, {'date': '2017-06-08', 'open': 153.463, 'high': 153.7496, 'low': 152.6228, 'close': 153.206, 'volume': 21250798, 'unadjustedVolume': 21250798, 'change': -0.375626, 'changePercent': -0.245, 'vwap': 153.101, 'label': 'Jun 8, 17', 'changeOverTime': 0.08702839927855917}, {'date': '2017-06-09', 'open': 153.4037, 'high': 153.4037, 'low': 144.3392, 'close': 147.2651, 'volume': 64882657, 'unadjustedVolume': 64882657, 'change': -5.9408, 'changePercent': -3.878, 'vwap': 148.4477, 'label': 'Jun 9, 17', 'changeOverTime': 0.04487647952819696}, {'date': '2017-06-12', 'open': 144.0624, 'high': 144.4084, 'low': 140.8696, 'close': 143.7461, 'volume': 72307330, 'unadjustedVolume': 72307330, 'change': -3.519, 'changePercent': -2.39, 'vwap': 142.6136, 'label': 'Jun 12, 17', 'changeOverTime': 0.0199084434391324}, {'date': '2017-06-13', 'open': 145.4661, 'high': 145.7528, 'low': 143.4792, 'close': 144.9027, 'volume': 34165445, 'unadjustedVolume': 34165445, 'change': 1.1565, 'changePercent': 0.805, 'vwap': 144.6719, 'label': 'Jun 13, 17', 'changeOverTime': 0.028114760728308926}, {'date': '2017-06-14', 'open': 145.8022, 'high': 145.8022, 'low': 142.1843, 'close': 143.4891, 'volume': 31531232, 'unadjustedVolume': 31531232, 'change': -1.4135, 'changePercent': -0.976, 'vwap': 143.7093, 'label': 'Jun 14, 17', 'changeOverTime': 0.01808497504615435}, {'date': '2017-06-15', 'open': 141.6703, 'high': 142.8167, 'low': 140.5731, 'close': 142.6291, 'volume': 32165373, 'unadjustedVolume': 32165373, 'change': -0.859986, 'changePercent': -0.599, 'vwap': 141.8584, 'label': 'Jun 15, 17', 'changeOverTime': 0.011983096377044943}, {'date': '2017-06-16', 'open': 142.125, 'high': 142.8367, 'low': 140.5632, 'close': 140.6324, 'volume': 50361093, 'unadjustedVolume': 50361093, 'change': -1.9967, 'changePercent': -1.4, 'vwap': 141.3922, 'label': 'Jun 16, 17', 'changeOverTime': -0.0021839049469208538}, {'date': '2017-06-19', 'open': 142.0064, 'high': 145.0509, 'low': 142.0064, 'close': 144.6555, 'volume': 32541404, 'unadjustedVolume': 32541404, 'change': 4.0232, 'changePercent': 2.861, 'vwap': 144.0684, 'label': 'Jun 19, 17', 'changeOverTime': 0.02636082537132759}, {'date': '2017-06-20', 'open': 145.1794, 'high': 145.1794, 'low': 143.2717, 'close': 143.3408, 'volume': 24900073, 'unadjustedVolume': 24900073, 'change': -1.3147, 'changePercent': -0.909, 'vwap': 143.7772, 'label': 'Jun 20, 17', 'changeOverTime': 0.01703275573612069}, {'date': '2017-06-21', 'open': 143.845, 'high': 144.388, 'low': 142.9454, 'close': 144.1909, 'volume': 21265751, 'unadjustedVolume': 21265751, 'change': 0.850102, 'changePercent': 0.593, 'vwap': 143.8627, 'label': 'Jun 21, 17', 'changeOverTime': 0.023064391848457676}, {'date': '2017-06-22', 'open': 144.0921, 'high': 145.0114, 'low': 143.4495, 'close': 143.9537, 'volume': 19106294, 'unadjustedVolume': 19106294, 'change': -0.237239, 'changePercent': -0.165, 'vwap': 144.0766, 'label': 'Jun 22, 17', 'changeOverTime': 0.021381408569024263}, {'date': '2017-06-23', 'open': 143.4595, 'high': 145.4661, 'low': 143.4397, 'close': 144.5962, 'volume': 35439389, 'unadjustedVolume': 35439389, 'change': 0.642519, 'changePercent': 0.446, 'vwap': 144.6408, 'label': 'Jun 23, 17', 'changeOverTime': 0.02594007955146939}, {'date': '2017-06-26', 'open': 145.476, 'high': 146.5732, 'low': 143.7066, 'close': 144.1415, 'volume': 25692361, 'unadjustedVolume': 25692361, 'change': -0.454706, 'changePercent': -0.314, 'vwap': 144.8057, 'label': 'Jun 26, 17', 'changeOverTime': 0.02271388858537169}, {'date': '2017-06-27', 'open': 143.3408, 'high': 144.4776, 'low': 141.9668, 'close': 142.0756, 'volume': 24761891, 'unadjustedVolume': 24761891, 'change': -2.0659, 'changePercent': -1.433, 'vwap': 143.1411, 'label': 'Jun 27, 17', 'changeOverTime': 0.008055898884775274}, {'date': '2017-06-28', 'open': 142.8268, 'high': 144.4282, 'low': 141.5122, 'close': 144.1514, 'volume': 22082432, 'unadjustedVolume': 22082432, 'change': 2.0758, 'changePercent': 1.461, 'vwap': 143.3552, 'label': 'Jun 28, 17', 'changeOverTime': 0.022784131142143907}, {'date': '2017-06-29', 'open': 143.0443, 'high': 143.4595, 'low': 140.6423, 'close': 142.0262, 'volume': 31499368, 'unadjustedVolume': 31499368, 'change': -2.1253, 'changePercent': -1.474, 'vwap': 141.9583, 'label': 'Jun 29, 17', 'changeOverTime': 0.007705395621689087}, {'date': '2017-06-30', 'open': 142.7873, 'high': 143.2914, 'low': 142.125, 'close': 142.3622, 'volume': 23024107, 'unadjustedVolume': 23024107, 'change': 0.336086, 'changePercent': 0.237, 'vwap': 142.7072, 'label': 'Jun 30, 17', 'changeOverTime': 0.010089385427294675}, {'date': '2017-07-03', 'open': 143.2123, 'high': 143.6276, 'low': 141.4528, 'close': 141.8482, 'volume': 14277848, 'unadjustedVolume': 14277848, 'change': -0.514015, 'changePercent': -0.361, 'vwap': 142.326, 'label': 'Jul 3, 17', 'changeOverTime': 0.006442448641338575}, {'date': '2017-07-05', 'open': 142.036, 'high': 143.1234, 'low': 141.0809, 'close': 142.4314, 'volume': 21569557, 'unadjustedVolume': 21569557, 'change': 0.583209, 'changePercent': 0.411, 'vwap': 142.2834, 'label': 'Jul 5, 17', 'changeOverTime': 0.010580373803925297}, {'date': '2017-07-06', 'open': 141.3738, 'high': 141.8482, 'low': 140.7708, 'close': 141.0871, 'volume': 24128782, 'unadjustedVolume': 24128782, 'change': -1.3443, 'changePercent': -0.944, 'vwap': 141.1904, 'label': 'Jul 6, 17', 'changeOverTime': 0.0010422860191768425}, {'date': '2017-07-07', 'open': 141.2551, 'high': 143.0838, 'low': 141.2551, 'close': 142.5204, 'volume': 19201712, 'unadjustedVolume': 19201712, 'change': 1.4333, 'changePercent': 1.016, 'vwap': 142.4063, 'label': 'Jul 7, 17', 'changeOverTime': 0.011211847294100552}, {'date': '2017-07-10', 'open': 142.4512, 'high': 144.27, 'low': 141.7197, 'close': 143.3903, 'volume': 21090636, 'unadjustedVolume': 21090636, 'change': 0.86987, 'changePercent': 0.61, 'vwap': 143.234, 'label': 'Jul 10, 17', 'changeOverTime': 0.017383968519982175}, {'date': '2017-07-11', 'open': 143.0641, 'high': 144.1712, 'low': 142.7181, 'close': 143.8549, 'volume': 19781836, 'unadjustedVolume': 19781836, 'change': 0.46459, 'changePercent': 0.324, 'vwap': 143.5328, 'label': 'Jul 11, 17', 'changeOverTime': 0.02068040204285209}, {'date': '2017-07-12', 'open': 144.1909, 'high': 144.4974, 'low': 143.153, 'close': 144.0624, 'volume': 24884478, 'unadjustedVolume': 24884478, 'change': 0.207583, 'changePercent': 0.144, 'vwap': 143.7811, 'label': 'Jul 12, 17', 'changeOverTime': 0.022152657651968652}, {'date': '2017-07-13', 'open': 143.8252, 'high': 146.7808, 'low': 143.7659, 'close': 146.0691, 'volume': 25199373, 'unadjustedVolume': 25199373, 'change': 2.0066, 'changePercent': 1.393, 'vwap': 145.7762, 'label': 'Jul 13, 17', 'changeOverTime': 0.036390611053482166}, {'date': '2017-07-14', 'open': 146.2668, 'high': 147.6111, 'low': 145.6341, 'close': 147.3245, 'volume': 20132061, 'unadjustedVolume': 20132061, 'change': 1.2554, 'changePercent': 0.859, 'vwap': 146.7107, 'label': 'Jul 14, 17', 'changeOverTime': 0.045297934868830866}, {'date': '2017-07-17', 'open': 147.107, 'high': 149.163, 'low': 146.8599, 'close': 147.8385, 'volume': 23793456, 'unadjustedVolume': 23793456, 'change': 0.514014, 'changePercent': 0.349, 'vwap': 148.1497, 'label': 'Jul 17, 17', 'changeOverTime': 0.04894487165478697}, {'date': '2017-07-18', 'open': 147.4826, 'high': 148.4019, 'low': 146.9587, 'close': 148.3525, 'volume': 17868792, 'unadjustedVolume': 17868792, 'change': 0.514014, 'changePercent': 0.348, 'vwap': 147.7151, 'label': 'Jul 18, 17', 'changeOverTime': 0.05259180844074286}, {'date': '2017-07-19', 'open': 148.7479, 'high': 149.6771, 'low': 148.224, 'close': 149.2817, 'volume': 20922969, 'unadjustedVolume': 20922969, 'change': 0.929181, 'changePercent': 0.626, 'vwap': 149.0912, 'label': 'Jul 19, 17', 'changeOverTime': 0.059184675486482895}, {'date': '2017-07-20', 'open': 149.7561, 'high': 149.9934, 'low': 148.4612, 'close': 148.6095, 'volume': 17243748, 'unadjustedVolume': 17243748, 'change': -0.672173, 'changePercent': -0.45, 'vwap': 149.0121, 'label': 'Jul 20, 17', 'changeOverTime': 0.05441527683372092}, {'date': '2017-07-21', 'open': 148.2635, 'high': 148.7083, 'low': 147.1663, 'close': 148.5403, 'volume': 26252630, 'unadjustedVolume': 26252630, 'change': -0.069194, 'changePercent': -0.047, 'vwap': 148.1956, 'label': 'Jul 21, 17', 'changeOverTime': 0.0539242884570903}, {'date': '2017-07-24', 'open': 148.8467, 'high': 150.6853, 'low': 148.1746, 'close': 150.3394, 'volume': 21493160, 'unadjustedVolume': 21493160, 'change': 1.799, 'changePercent': 1.211, 'vwap': 149.8247, 'label': 'Jul 24, 17', 'changeOverTime': 0.06668927672871194}, {'date': '2017-07-25', 'open': 150.0527, 'high': 152.0692, 'low': 150.0527, 'close': 150.9819, 'volume': 18853932, 'unadjustedVolume': 18853932, 'change': 0.642519, 'changePercent': 0.427, 'vwap': 151.3745, 'label': 'Jul 25, 17', 'changeOverTime': 0.07124794771115688}, {'date': '2017-07-26', 'open': 151.5848, 'high': 152.1582, 'low': 151.2982, 'close': 151.6936, 'volume': 15780951, 'unadjustedVolume': 15780951, 'change': 0.711711, 'changePercent': 0.471, 'vwap': 151.7346, 'label': 'Jul 26, 17', 'changeOverTime': 0.07629760707023261}, {'date': '2017-07-27', 'open': 151.9802, 'high': 152.2175, 'low': 145.6045, 'close': 148.827, 'volume': 32476337, 'unadjustedVolume': 32476337, 'change': -2.8666, 'changePercent': -1.89, 'vwap': 149.2387, 'label': 'Jul 27, 17', 'changeOverTime': 0.055958484520385196}, {'date': '2017-07-28', 'open': 148.1647, 'high': 148.5008, 'low': 147.4727, 'close': 147.7792, 'volume': 17213653, 'unadjustedVolume': 17213653, 'change': -1.0478, 'changePercent': -0.704, 'vwap': 147.9757, 'label': 'Jul 28, 17', 'changeOverTime': 0.04852412583492856}, {'date': '2017-07-31', 'open': 148.1746, 'high': 148.5996, 'low': 146.4249, 'close': 147.018, 'volume': 19845920, 'unadjustedVolume': 19845920, 'change': -0.761138, 'changePercent': -0.515, 'vwap': 147.1916, 'label': 'Jul 31, 17', 'changeOverTime': 0.043123253691991326}, {'date': '2017-08-01', 'open': 155.2521, 'high': 157.0907, 'low': 154.8667, 'close': 156.7645, 'volume': 21194042, 'unadjustedVolume': 21194042, 'change': 9.7465, 'changePercent': 6.629, 'vwap': 156.1631, 'label': 'Aug 1, 17', 'changeOverTime': 0.1122766960739377}, {'date': '2017-08-02', 'open': 157.4466, 'high': 157.9112, 'low': 154.3625, 'close': 155.3312, 'volume': 69936800, 'unadjustedVolume': 69936800, 'change': -1.4333, 'changePercent': -0.914, 'vwap': 156.0029, 'label': 'Aug 2, 17', 'changeOverTime': 0.10210713479901398}, {'date': '2017-08-03', 'open': 155.2423, 'high': 155.4004, 'low': 153.2356, 'close': 153.7793, 'volume': 27097296, 'unadjustedVolume': 27097296, 'change': -1.5519, 'changePercent': -0.999, 'vwap': 154.117, 'label': 'Aug 3, 17', 'changeOverTime': 0.09109608188437367}, {'date': '2017-08-04', 'open': 154.2735, 'high': 155.5882, 'low': 153.8979, 'close': 154.5899, 'volume': 20559852, 'unadjustedVolume': 20559852, 'change': 0.810561, 'changePercent': 0.527, 'vwap': 154.6356, 'label': 'Aug 4, 17', 'changeOverTime': 0.09684745729039688}, {'date': '2017-08-07', 'open': 155.2521, 'high': 157.0907, 'low': 154.8667, 'close': 156.982, 'volume': 21870321, 'unadjustedVolume': 21870321, 'change': 2.3921, 'changePercent': 1.547, 'vwap': 156.1631, 'label': 'Aug 7, 17', 'changeOverTime': 0.11381990376060197}, {'date': '2017-08-08', 'open': 156.7744, 'high': 159.9672, 'low': 156.4482, 'close': 158.2374, 'volume': 36205896, 'unadjustedVolume': 36205896, 'change': 1.2554, 'changePercent': 0.8, 'vwap': 158.671, 'label': 'Aug 8, 17', 'changeOverTime': 0.12272722757595067}, {'date': '2017-08-09', 'open': 157.4268, 'high': 159.4137, 'low': 157.2785, 'close': 159.2061, 'volume': 26131530, 'unadjustedVolume': 26131530, 'change': 0.968719, 'changePercent': 0.612, 'vwap': 158.6221, 'label': 'Aug 9, 17', 'changeOverTime': 0.12960035532800426}, {'date': '2017-08-10', 'open': 158.6802, 'high': 158.7794, 'low': 153.4504, 'close': 154.1351, 'volume': 40804273, 'unadjustedVolume': 40804273, 'change': -5.071, 'changePercent': -3.185, 'vwap': 156.1406, 'label': 'Aug 10, 17', 'changeOverTime': 0.09362055680352369}, {'date': '2017-08-11', 'open': 155.4054, 'high': 157.3631, 'low': 154.8794, 'close': 156.2787, 'volume': 26257096, 'unadjustedVolume': 26257096, 'change': 2.1435, 'changePercent': 1.391, 'vwap': 156.3044, 'label': 'Aug 11, 17', 'changeOverTime': 0.10882984414666633}, {'date': '2017-08-14', 'open': 158.1046, 'high': 158.9878, 'low': 157.539, 'close': 158.6306, 'volume': 22122734, 'unadjustedVolume': 22122734, 'change': 2.3519, 'changePercent': 1.505, 'vwap': 158.3365, 'label': 'Aug 14, 17', 'changeOverTime': 0.12551706326512935}, {'date': '2017-08-15', 'open': 159.4344, 'high': 160.9577, 'low': 158.9184, 'close': 160.3672, 'volume': 29465487, 'unadjustedVolume': 29465487, 'change': 1.7367, 'changePercent': 1.095, 'vwap': 160.176, 'label': 'Aug 15, 17', 'changeOverTime': 0.13783860105207735}, {'date': '2017-08-16', 'open': 160.7046, 'high': 161.2703, 'low': 158.9283, 'close': 159.7222, 'volume': 27671612, 'unadjustedVolume': 27671612, 'change': -0.645042, 'changePercent': -0.402, 'vwap': 160.1584, 'label': 'Aug 16, 17', 'changeOverTime': 0.13326219205024528}, {'date': '2017-08-17', 'open': 159.2955, 'high': 159.484, 'low': 156.6359, 'close': 156.6558, 'volume': 27940565, 'unadjustedVolume': 27940565, 'change': -3.0664, 'changePercent': -1.92, 'vwap': 157.6959, 'label': 'Aug 17, 17', 'changeOverTime': 0.11150544699099331}, {'date': '2017-08-18', 'open': 156.6558, 'high': 158.2833, 'low': 155.5245, 'close': 156.2985, 'volume': 27428069, 'unadjustedVolume': 27428069, 'change': -0.357253, 'changePercent': -0.228, 'vwap': 156.9726, 'label': 'Aug 18, 17', 'changeOverTime': 0.10897032926021097}, {'date': '2017-08-21', 'open': 156.2985, 'high': 156.6855, 'low': 153.9269, 'close': 156.0107, 'volume': 26368528, 'unadjustedVolume': 26368528, 'change': -0.287788, 'changePercent': -0.184, 'vwap': 155.4266, 'label': 'Aug 21, 17', 'changeOverTime': 0.10692832846838594}, {'date': '2017-08-22', 'open': 157.023, 'high': 158.7794, 'low': 156.8146, 'close': 158.5611, 'volume': 21604585, 'unadjustedVolume': 21604585, 'change': 2.5504, 'changePercent': 1.635, 'vwap': 158.3043, 'label': 'Aug 22, 17', 'changeOverTime': 0.12502394632617242}, {'date': '2017-08-23', 'open': 157.8565, 'high': 159.2459, 'low': 157.668, 'close': 158.7596, 'volume': 19399081, 'unadjustedVolume': 19399081, 'change': 0.198474, 'changePercent': 0.125, 'vwap': 158.6411, 'label': 'Aug 23, 17', 'changeOverTime': 0.12643234506549586}, {'date': '2017-08-24', 'open': 159.2062, 'high': 159.5138, 'low': 157.3405, 'close': 158.055, 'volume': 19818918, 'unadjustedVolume': 19818918, 'change': -0.704584, 'changePercent': -0.444, 'vwap': 158.2034, 'label': 'Aug 24, 17', 'changeOverTime': 0.1214330616814791}, {'date': '2017-08-25', 'open': 158.4321, 'high': 159.3352, 'low': 158.055, 'close': 158.6405, 'volume': 25480063, 'unadjustedVolume': 25480063, 'change': 0.585499, 'changePercent': 0.37, 'vwap': 158.7145, 'label': 'Aug 25, 17', 'changeOverTime': 0.12558730582190175}, {'date': '2017-08-28', 'open': 158.9184, 'high': 160.7642, 'low': 158.71, 'close': 160.2382, 'volume': 25965972, 'unadjustedVolume': 25965972, 'change': 1.5977, 'changePercent': 1.007, 'vwap': 160.0228, 'label': 'Aug 28, 17', 'changeOverTime': 0.13692331925171103}, {'date': '2017-08-29', 'open': 158.8787, 'high': 161.8756, 'low': 158.7794, 'close': 161.6672, 'volume': 29516910, 'unadjustedVolume': 29516910, 'change': 1.429, 'changePercent': 0.892, 'vwap': 160.9619, 'label': 'Aug 29, 17', 'changeOverTime': 0.14706237113328918}, {'date': '2017-08-30', 'open': 162.5505, 'high': 162.6398, 'low': 161.3695, 'close': 162.1039, 'volume': 27269584, 'unadjustedVolume': 27269584, 'change': 0.436644, 'changePercent': 0.27, 'vwap': 161.9705, 'label': 'Aug 30, 17', 'changeOverTime': 0.15016084835980087}, {'date': '2017-08-31', 'open': 162.3917, 'high': 163.265, 'low': 162.2329, 'close': 162.7489, 'volume': 26785096, 'unadjustedVolume': 26785096, 'change': 0.645042, 'changePercent': 0.398, 'vwap': 162.723, 'label': 'Aug 31, 17', 'changeOverTime': 0.1547372573616327}, {'date': '2017-09-01', 'open': 163.5428, 'high': 163.6818, 'low': 162.3818, 'close': 162.7986, 'volume': 16591051, 'unadjustedVolume': 16591051, 'change': 0.049618, 'changePercent': 0.03, 'vwap': 162.8692, 'label': 'Sep 1, 17', 'changeOverTime': 0.1550898891870452}, {'date': '2017-09-05', 'open': 162.5008, 'high': 162.997, 'low': 159.3352, 'close': 160.8436, 'volume': 29536314, 'unadjustedVolume': 29536314, 'change': -1.955, 'changePercent': -1.201, 'vwap': 161.1337, 'label': 'Sep 5, 17', 'changeOverTime': 0.1412187580264538}, {'date': '2017-09-06', 'open': 161.4688, 'high': 161.7466, 'low': 159.2955, 'close': 160.6749, 'volume': 21651726, 'unadjustedVolume': 21651726, 'change': -0.168703, 'changePercent': -0.105, 'vwap': 160.5167, 'label': 'Sep 6, 17', 'changeOverTime': 0.1400217964782227}, {'date': '2017-09-07', 'open': 160.8535, 'high': 161.0024, 'low': 159.1367, 'close': 160.0298, 'volume': 21928502, 'unadjustedVolume': 21928502, 'change': -0.645041, 'changePercent': -0.401, 'vwap': 160.1677, 'label': 'Sep 7, 17', 'changeOverTime': 0.13544467795561516}, {'date': '2017-09-08', 'open': 159.6329, 'high': 159.9207, 'low': 157.3207, 'close': 157.4199, 'volume': 28611535, 'unadjustedVolume': 28611535, 'change': -2.6099, 'changePercent': -1.631, 'vwap': 158.3179, 'label': 'Sep 8, 17', 'changeOverTime': 0.11692689523641947}, {'date': '2017-09-11', 'open': 159.2756, 'high': 160.8138, 'low': 158.6703, 'close': 160.268, 'volume': 31580798, 'unadjustedVolume': 31580798, 'change': 2.8481, 'changePercent': 1.809, 'vwap': 160.0873, 'label': 'Sep 11, 17', 'changeOverTime': 0.13713475644280337}, {'date': '2017-09-12', 'open': 161.3695, 'high': 162.7092, 'low': 157.5588, 'close': 159.6329, 'volume': 71714046, 'unadjustedVolume': 71714046, 'change': -0.635119, 'changePercent': -0.396, 'vwap': 160.2042, 'label': 'Sep 12, 17', 'changeOverTime': 0.13262858999774374}, {'date': '2017-09-13', 'open': 158.6504, 'high': 158.7398, 'low': 156.7054, 'close': 158.4321, 'volume': 44907361, 'unadjustedVolume': 44907361, 'change': -1.2008, 'changePercent': -0.752, 'vwap': 157.7504, 'label': 'Sep 13, 17', 'changeOverTime': 0.12410866452580588}, {'date': '2017-09-14', 'open': 157.7772, 'high': 158.184, 'low': 156.884, 'close': 157.0726, 'volume': 23760749, 'unadjustedVolume': 23760749, 'change': -1.3596, 'changePercent': -0.858, 'vwap': 157.5138, 'label': 'Sep 14, 17', 'changeOverTime': 0.11446272958318485}, {'date': '2017-09-15', 'open': 157.2611, 'high': 159.742, 'low': 156.7947, 'close': 158.6604, 'volume': 49114602, 'unadjustedVolume': 49114602, 'change': 1.5878, 'changePercent': 1.011, 'vwap': 158.4028, 'label': 'Sep 15, 17', 'changeOverTime': 0.1257285004562219}, {'date': '2017-09-18', 'open': 158.8886, 'high': 159.2756, 'low': 156.7897, 'close': 157.4596, 'volume': 28269435, 'unadjustedVolume': 28269435, 'change': -1.2008, 'changePercent': -0.757, 'vwap': 157.9887, 'label': 'Sep 18, 17', 'changeOverTime': 0.11720857498428404}, {'date': '2017-09-19', 'open': 158.2932, 'high': 158.5512, 'low': 157.2313, 'close': 157.5191, 'volume': 20810632, 'unadjustedVolume': 20810632, 'change': 0.059542, 'changePercent': 0.038, 'vwap': 157.7816, 'label': 'Sep 19, 17', 'changeOverTime': 0.11763073984569344}, {'date': '2017-09-20', 'open': 156.6955, 'high': 157.0527, 'low': 152.6565, 'close': 154.8794, 'volume': 52951364, 'unadjustedVolume': 52951364, 'change': -2.6397, 'changePercent': -1.676, 'vwap': 154.4795, 'label': 'Sep 20, 17', 'changeOverTime': 0.09890151993540522}, {'date': '2017-09-21', 'open': 154.6115, 'high': 154.6115, 'low': 151.5848, 'close': 152.2199, 'volume': 37511661, 'unadjustedVolume': 37511661, 'change': -2.6596, 'changePercent': -1.717, 'vwap': 152.6363, 'label': 'Sep 21, 17', 'changeOverTime': 0.08003181491157237}, {'date': '2017-09-22', 'open': 150.8603, 'high': 151.1084, 'low': 149.4115, 'close': 150.7313, 'volume': 46645443, 'unadjustedVolume': 46645443, 'change': -1.4886, 'changePercent': -0.978, 'vwap': 150.2433, 'label': 'Sep 22, 17', 'changeOverTime': 0.0694698886478095}, {'date': '2017-09-25', 'open': 148.8458, 'high': 150.6718, 'low': 148.0221, 'close': 149.4015, 'volume': 44387336, 'unadjustedVolume': 44387336, 'change': -1.3298, 'changePercent': -0.882, 'vwap': 149.2577, 'label': 'Sep 25, 17', 'changeOverTime': 0.060034681375505314}, {'date': '2017-09-26', 'open': 150.6222, 'high': 152.7458, 'low': 150.5328, 'close': 151.9718, 'volume': 36660045, 'unadjustedVolume': 36660045, 'change': 2.5702, 'changePercent': 1.72, 'vwap': 151.6654, 'label': 'Sep 26, 17', 'changeOverTime': 0.07827149386761191}, {'date': '2017-09-27', 'open': 152.6267, 'high': 153.5386, 'low': 152.3687, 'close': 153.0535, 'volume': 25504227, 'unadjustedVolume': 25504227, 'change': 1.0817, 'changePercent': 0.712, 'vwap': 153.054, 'label': 'Sep 27, 17', 'changeOverTime': 0.08594638009595565}, {'date': '2017-09-28', 'open': 152.7161, 'high': 153.1031, 'low': 151.5351, 'close': 152.1107, 'volume': 22005455, 'unadjustedVolume': 22005455, 'change': -0.942752, 'changePercent': -0.616, 'vwap': 152.0284, 'label': 'Sep 28, 17', 'changeOverTime': 0.07925701822475066}, {'date': '2017-09-29', 'open': 152.0412, 'high': 152.9542, 'low': 150.8405, 'close': 152.9443, 'volume': 26299810, 'unadjustedVolume': 26299810, 'change': 0.833592, 'changePercent': 0.548, 'vwap': 152.2579, 'label': 'Sep 29, 17', 'changeOverTime': 0.08517158340913376}, {'date': '2017-10-02', 'open': 153.0832, 'high': 153.2718, 'low': 151.555, 'close': 152.6367, 'volume': 18698842, 'unadjustedVolume': 18698842, 'change': -0.307635, 'changePercent': -0.201, 'vwap': 152.4089, 'label': 'Oct 2, 17', 'changeOverTime': 0.0829890975037639}, {'date': '2017-10-03', 'open': 152.8351, 'high': 153.9069, 'low': 152.7359, 'close': 153.3016, 'volume': 16230293, 'unadjustedVolume': 16230293, 'change': 0.664889, 'changePercent': 0.436, 'vwap': 153.3599, 'label': 'Oct 3, 17', 'changeOverTime': 0.0877067011399161}, {'date': '2017-10-04', 'open': 152.458, 'high': 152.6863, 'low': 151.297, 'close': 152.3092, 'volume': 20163750, 'unadjustedVolume': 20163750, 'change': -0.992372, 'changePercent': -0.647, 'vwap': 152.1609, 'label': 'Oct 4, 17', 'changeOverTime': 0.08066541696407412}, {'date': '2017-10-05', 'open': 153.0038, 'high': 154.2542, 'low': 152.8748, 'close': 154.2046, 'volume': 21283769, 'unadjustedVolume': 21283769, 'change': 1.8954, 'changePercent': 1.244, 'vwap': 153.862, 'label': 'Oct 5, 17', 'changeOverTime': 0.09411367374248081}, {'date': '2017-10-06', 'open': 153.7878, 'high': 154.3039, 'low': 153.3809, 'close': 154.1153, 'volume': 17407558, 'unadjustedVolume': 17407558, 'change': -0.089314, 'changePercent': -0.058, 'vwap': 153.8499, 'label': 'Oct 6, 17', 'changeOverTime': 0.09348007168997906}, {'date': '2017-10-09', 'open': 154.6214, 'high': 155.5344, 'low': 154.2989, 'close': 154.6512, 'volume': 16262923, 'unadjustedVolume': 16262923, 'change': 0.535881, 'changePercent': 0.348, 'vwap': 154.8026, 'label': 'Oct 9, 17', 'changeOverTime': 0.09728239352576472}, {'date': '2017-10-10', 'open': 154.8645, 'high': 156.7947, 'low': 153.9168, 'close': 154.7107, 'volume': 15617014, 'unadjustedVolume': 15617014, 'change': 0.059542, 'changePercent': 0.039, 'vwap': 154.6382, 'label': 'Oct 10, 17', 'changeOverTime': 0.09770455838717412}, {'date': '2017-10-11', 'open': 154.7802, 'high': 155.7825, 'low': 154.5619, 'close': 155.3558, 'volume': 16905640, 'unadjustedVolume': 16905640, 'change': 0.645042, 'changePercent': 0.417, 'vwap': 155.3268, 'label': 'Oct 11, 17', 'changeOverTime': 0.10228167690978147}, {'date': '2017-10-12', 'open': 155.1573, 'high': 156.1695, 'low': 154.5419, 'close': 154.81, 'volume': 16125054, 'unadjustedVolume': 16125054, 'change': -0.545805, 'changePercent': -0.351, 'vwap': 155.382, 'label': 'Oct 12, 17', 'changeOverTime': 0.0984091125172236}, {'date': '2017-10-13', 'open': 155.5344, 'high': 156.0802, 'low': 155.2168, 'close': 155.7924, 'volume': 16394188, 'unadjustedVolume': 16394188, 'change': 0.982448, 'changePercent': 0.635, 'vwap': 155.7121, 'label': 'Oct 13, 17', 'changeOverTime': 0.10537944461551765}, {'date': '2017-10-16', 'open': 156.6955, 'high': 158.7794, 'low': 156.4474, 'close': 158.6604, 'volume': 24121452, 'unadjustedVolume': 24121452, 'change': 2.868, 'changePercent': 1.841, 'vwap': 158.062, 'label': 'Oct 16, 17', 'changeOverTime': 0.1257285004562219}, {'date': '2017-10-17', 'open': 158.5611, 'high': 159.6428, 'low': 158.0153, 'close': 159.2459, 'volume': 18997275, 'unadjustedVolume': 18997275, 'change': 0.585499, 'changePercent': 0.369, 'vwap': 158.8169, 'label': 'Oct 17, 17', 'changeOverTime': 0.12988274459664453}, {'date': '2017-10-18', 'open': 159.1962, 'high': 159.484, 'low': 158.3825, 'close': 158.5413, 'volume': 16374164, 'unadjustedVolume': 16374164, 'change': -0.704583, 'changePercent': -0.442, 'vwap': 158.8648, 'label': 'Oct 18, 17', 'changeOverTime': 0.12488346121262778}, {'date': '2017-10-19', 'open': 155.5542, 'high': 155.8817, 'low': 153.8374, 'close': 154.7901, 'volume': 42584166, 'unadjustedVolume': 42584166, 'change': -3.7512, 'changePercent': -2.366, 'vwap': 154.5933, 'label': 'Oct 19, 17', 'changeOverTime': 0.09826791788290347}, {'date': '2017-10-20', 'open': 155.4153, 'high': 156.5466, 'low': 154.7703, 'close': 155.0581, 'volume': 23974146, 'unadjustedVolume': 23974146, 'change': 0.267941, 'changePercent': 0.173, 'vwap': 155.677, 'label': 'Oct 20, 17', 'changeOverTime': 0.10016943356118405}, {'date': '2017-10-23', 'open': 155.6932, 'high': 156.4871, 'low': 154.3138, 'close': 154.9787, 'volume': 21984327, 'unadjustedVolume': 21984327, 'change': -0.079391, 'changePercent': -0.051, 'vwap': 155.3736, 'label': 'Oct 23, 17', 'changeOverTime': 0.0996060740654547}, {'date': '2017-10-24', 'open': 155.0977, 'high': 156.2191, 'low': 155.0084, 'close': 155.9016, 'volume': 17757230, 'unadjustedVolume': 17757230, 'change': 0.922906, 'changePercent': 0.596, 'vwap': 155.7375, 'label': 'Oct 24, 17', 'changeOverTime': 0.10615424130233955}, {'date': '2017-10-25', 'open': 155.713, 'high': 156.3481, 'low': 154.0855, 'close': 155.2168, 'volume': 21207098, 'unadjustedVolume': 21207098, 'change': -0.684737, 'changePercent': -0.439, 'vwap': 155.169, 'label': 'Oct 25, 17', 'changeOverTime': 0.10129544303186742}, {'date': '2017-10-26', 'open': 156.0306, 'high': 156.6255, 'low': 155.584, 'close': 156.2092, 'volume': 17000469, 'unadjustedVolume': 17000469, 'change': 0.992372, 'changePercent': 0.639, 'vwap': 156.2428, 'label': 'Oct 26, 17', 'changeOverTime': 0.1083367272077094}, {'date': '2017-10-27', 'open': 158.0749, 'high': 162.352, 'low': 157.4894, 'close': 161.8062, 'volume': 44454160, 'unadjustedVolume': 44454160, 'change': 5.597, 'changePercent': 3.583, 'vwap': 160.4661, 'label': 'Oct 27, 17', 'changeOverTime': 0.14804860501120323}, {'date': '2017-10-30', 'open': 162.6398, 'high': 166.7879, 'low': 162.4711, 'close': 165.4482, 'volume': 44700772, 'unadjustedVolume': 44700772, 'change': 3.642, 'changePercent': 2.251, 'vwap': 165.1563, 'label': 'Oct 30, 17', 'changeOverTime': 0.17388935165410585}, {'date': '2017-10-31', 'open': 166.6192, 'high': 168.3557, 'low': 165.6665, 'close': 167.7505, 'volume': 36046828, 'unadjustedVolume': 36046828, 'change': 2.3023, 'changePercent': 1.392, 'vwap': 167.294, 'label': 'Oct 31, 17', 'changeOverTime': 0.19022464846793166}, {'date': '2017-11-01', 'open': 168.5742, 'high': 168.6436, 'low': 164.3467, 'close': 165.6169, 'volume': 33637762, 'unadjustedVolume': 33637762, 'change': -2.1336, 'changePercent': -1.272, 'vwap': 165.8821, 'label': 'Nov 1, 17', 'changeOverTime': 0.17508631320233675}, {'date': '2017-11-02', 'open': 166.3612, 'high': 167.2146, 'low': 164.0192, 'close': 166.8276, 'volume': 41393373, 'unadjustedVolume': 41393373, 'change': 1.2107, 'changePercent': 0.731, 'vwap': 166.0496, 'label': 'Nov 2, 17', 'changeOverTime': 0.18367648123104682}, {'date': '2017-11-03', 'open': 172.6726, 'high': 172.9307, 'low': 169.8146, 'close': 171.1841, 'volume': 59398631, 'unadjustedVolume': 59398631, 'change': 4.3565, 'changePercent': 2.611, 'vwap': 171.2723, 'label': 'Nov 3, 17', 'changeOverTime': 0.2145867538147384}, {'date': '2017-11-06', 'open': 171.0501, 'high': 173.6551, 'low': 170.41, 'close': 172.9207, 'volume': 35026306, 'unadjustedVolume': 35026306, 'change': 1.7366, 'changePercent': 1.014, 'vwap': 172.648, 'label': 'Nov 6, 17', 'changeOverTime': 0.22690829160168643}, {'date': '2017-11-07', 'open': 172.5833, 'high': 173.9131, 'low': 172.2757, 'close': 173.4765, 'volume': 24361485, 'unadjustedVolume': 24361485, 'change': 0.555728, 'changePercent': 0.321, 'vwap': 173.2752, 'label': 'Nov 7, 17', 'changeOverTime': 0.230851808071792}, {'date': '2017-11-08', 'open': 173.3276, 'high': 174.8956, 'low': 173.0001, 'close': 174.8956, 'volume': 24409527, 'unadjustedVolume': 24409527, 'change': 1.4191, 'changePercent': 0.818, 'vwap': 174.0981, 'label': 'Nov 8, 17', 'changeOverTime': 0.24092061739659795}, {'date': '2017-11-09', 'open': 173.7742, 'high': 174.7517, 'low': 171.8192, 'close': 174.5383, 'volume': 29185668, 'unadjustedVolume': 29185668, 'change': -0.357253, 'changePercent': -0.204, 'vwap': 173.7066, 'label': 'Nov 9, 17', 'changeOverTime': 0.23838549966581563}, {'date': '2017-11-10', 'open': 174.3989, 'high': 174.6678, 'low': 173.5623, 'close': 173.9607, 'volume': 25145500, 'unadjustedVolume': 25145500, 'change': -0.577643, 'changePercent': -0.331, 'vwap': 174.1323, 'label': 'Nov 10, 17', 'changeOverTime': 0.23428730766665576}, {'date': '2017-11-13', 'open': 172.7954, 'high': 173.7914, 'low': 172.6958, 'close': 173.2635, 'volume': 16982080, 'unadjustedVolume': 16982080, 'change': -0.697157, 'changePercent': -0.401, 'vwap': 173.3011, 'label': 'Nov 13, 17', 'changeOverTime': 0.2293405288200243}, {'date': '2017-11-14', 'open': 172.3373, 'high': 172.7755, 'low': 170.4848, 'close': 170.6442, 'volume': 24782487, 'unadjustedVolume': 24782487, 'change': -2.6193, 'changePercent': -1.512, 'vwap': 171.5558, 'label': 'Nov 14, 17', 'changeOverTime': 0.21075605114793372}, {'date': '2017-11-15', 'open': 169.2798, 'high': 169.628, 'low': 167.6962, 'close': 168.3934, 'volume': 29158070, 'unadjustedVolume': 29158070, 'change': -2.2508, 'changePercent': -1.319, 'vwap': 168.6372, 'label': 'Nov 15, 17', 'changeOverTime': 0.1947861575334788}, {'date': '2017-11-16', 'open': 170.4848, 'high': 171.172, 'low': 169.6084, 'close': 170.4052, 'volume': 23637484, 'unadjustedVolume': 23637484, 'change': 2.0118, 'changePercent': 1.195, 'vwap': 170.4722, 'label': 'Nov 16, 17', 'changeOverTime': 0.20906029649454166}, {'date': '2017-11-17', 'open': 170.3454, 'high': 170.694, 'low': 168.9511, 'close': 169.459, 'volume': 21899544, 'unadjustedVolume': 21899544, 'change': -0.946142, 'changePercent': -0.555, 'vwap': 169.6792, 'label': 'Nov 17, 17', 'changeOverTime': 0.20234681091697043}, {'date': '2017-11-20', 'open': 169.5985, 'high': 169.8674, 'low': 168.8714, 'close': 169.2897, 'volume': 16262447, 'unadjustedVolume': 16262447, 'change': -0.16931, 'changePercent': -0.1, 'vwap': 169.2983, 'label': 'Nov 20, 17', 'changeOverTime': 0.20114559224408654}, {'date': '2017-11-21', 'open': 170.0865, 'high': 172.9946, 'low': 170.0865, 'close': 172.4369, 'volume': 25131295, 'unadjustedVolume': 25131295, 'change': 3.1472, 'changePercent': 1.859, 'vwap': 172.2059, 'label': 'Nov 21, 17', 'changeOverTime': 0.2234756300899247}, {'date': '2017-11-22', 'open': 172.656, 'high': 174.2893, 'low': 172.3472, 'close': 174.2495, 'volume': 25588925, 'unadjustedVolume': 25588925, 'change': 1.8126, 'changePercent': 1.051, 'vwap': 173.5432, 'label': 'Nov 22, 17', 'changeOverTime': 0.2363364036662358}, {'date': '2017-11-24', 'open': 174.3889, 'high': 174.7873, 'low': 173.9367, 'close': 174.2594, 'volume': 14026673, 'unadjustedVolume': 14026673, 'change': 0.00996, 'changePercent': 0.006, 'vwap': 174.382, 'label': 'Nov 24, 17', 'changeOverTime': 0.23640664622300803}, {'date': '2017-11-27', 'open': 174.3391, 'high': 174.369, 'low': 172.6361, 'close': 173.383, 'volume': 20716802, 'unadjustedVolume': 20716802, 'change': -0.876426, 'changePercent': -0.503, 'vwap': 173.538, 'label': 'Nov 27, 17', 'changeOverTime': 0.23018840614672043}, {'date': '2017-11-28', 'open': 173.5922, 'high': 174.1599, 'low': 171.1621, 'close': 172.3672, 'volume': 26428802, 'unadjustedVolume': 26428802, 'change': -1.0159, 'changePercent': -0.586, 'vwap': 172.4981, 'label': 'Nov 28, 17', 'changeOverTime': 0.22298109410941655}, {'date': '2017-11-29', 'open': 171.9289, 'high': 172.2178, 'low': 166.4812, 'close': 168.7917, 'volume': 41666364, 'unadjustedVolume': 41666364, 'change': -3.5754, 'changePercent': -2.074, 'vwap': 168.7136, 'label': 'Nov 29, 17', 'changeOverTime': 0.19761217878220683}, {'date': '2017-11-30', 'open': 169.7379, 'high': 171.4409, 'low': 167.756, 'close': 171.1521, 'volume': 41527218, 'unadjustedVolume': 41527218, 'change': 2.3604, 'changePercent': 1.398, 'vwap': 170.3807, 'label': 'Nov 30, 17', 'changeOverTime': 0.21435970716658545}, {'date': '2017-12-01', 'open': 169.2598, 'high': 170.9728, 'low': 167.8157, 'close': 170.3554, 'volume': 39759288, 'unadjustedVolume': 39759288, 'change': -0.796751, 'changePercent': -0.466, 'vwap': 169.7271, 'label': 'Dec 1, 17', 'changeOverTime': 0.2087069551483537}, {'date': '2017-12-04', 'open': 171.7796, 'high': 171.919, 'low': 168.9411, 'close': 169.1104, 'volume': 32542385, 'unadjustedVolume': 32542385, 'change': -1.2449, 'changePercent': -0.731, 'vwap': 170.2881, 'label': 'Dec 4, 17', 'changeOverTime': 0.1998734214936547}, {'date': '2017-12-05', 'open': 168.3734, 'high': 170.8235, 'low': 167.7161, 'close': 168.9511, 'volume': 27350154, 'unadjustedVolume': 27350154, 'change': -0.15935, 'changePercent': -0.094, 'vwap': 169.5133, 'label': 'Dec 5, 17', 'changeOverTime': 0.1987431548983185}, {'date': '2017-12-06', 'open': 166.8198, 'high': 169.5135, 'low': 165.784, 'close': 168.3236, 'volume': 28560000, 'unadjustedVolume': 28560000, 'change': -0.627442, 'changePercent': -0.371, 'vwap': 168.2542, 'label': 'Dec 6, 17', 'changeOverTime': 0.19429091203219517}, {'date': '2017-12-07', 'open': 168.3436, 'high': 169.7478, 'low': 168.2241, 'close': 168.6324, 'volume': 25673308, 'unadjustedVolume': 25673308, 'change': 0.308741, 'changePercent': 0.183, 'vwap': 168.9412, 'label': 'Dec 7, 17', 'changeOverTime': 0.19648191218687064}, {'date': '2017-12-08', 'open': 169.7976, 'high': 170.3056, 'low': 168.1344, 'close': 168.6822, 'volume': 23355231, 'unadjustedVolume': 23355231, 'change': 0.049797, 'changePercent': 0.03, 'vwap': 169.0779, 'label': 'Dec 8, 17', 'changeOverTime': 0.1968352535330586}, {'date': '2017-12-11', 'open': 168.5129, 'high': 172.1879, 'low': 168.1045, 'close': 171.9688, 'volume': 35273759, 'unadjustedVolume': 35273759, 'change': 3.2866, 'changePercent': 1.948, 'vwap': 171.0105, 'label': 'Dec 11, 17', 'changeOverTime': 0.22015436333991284}, {'date': '2017-12-12', 'open': 171.4509, 'high': 171.6899, 'low': 170.7647, 'close': 171.0027, 'volume': 19409230, 'unadjustedVolume': 19409230, 'change': -0.966061, 'changePercent': -0.562, 'vwap': 171.1992, 'label': 'Dec 12, 17', 'changeOverTime': 0.21329968312802167}, {'date': '2017-12-13', 'open': 171.7995, 'high': 172.8353, 'low': 171.3015, 'close': 171.5704, 'volume': 23818447, 'unadjustedVolume': 23818447, 'change': 0.567686, 'changePercent': 0.332, 'vwap': 172.0614, 'label': 'Dec 13, 17', 'changeOverTime': 0.2173276325704093}, {'date': '2017-12-14', 'open': 171.6999, 'high': 172.4269, 'low': 170.9529, 'close': 171.5206, 'volume': 20476541, 'unadjustedVolume': 20476541, 'change': -0.049797, 'changePercent': -0.029, 'vwap': 171.5784, 'label': 'Dec 14, 17', 'changeOverTime': 0.21697429122422132}, {'date': '2017-12-15', 'open': 172.9249, 'high': 173.4627, 'low': 171.7596, 'close': 173.2635, 'volume': 40169307, 'unadjustedVolume': 40169307, 'change': 1.7429, 'changePercent': 1.016, 'vwap': 172.8192, 'label': 'Dec 15, 17', 'changeOverTime': 0.2293405288200243}, {'date': '2017-12-18', 'open': 174.1698, 'high': 176.4804, 'low': 174.1499, 'close': 175.7036, 'volume': 29421114, 'unadjustedVolume': 29421114, 'change': 2.44, 'changePercent': 1.408, 'vwap': 175.6657, 'label': 'Dec 18, 17', 'changeOverTime': 0.24665354526245875}, {'date': '2017-12-19', 'open': 174.3192, 'high': 174.6777, 'low': 173.383, 'close': 173.8312, 'volume': 27436447, 'unadjustedVolume': 27436447, 'change': -1.8724, 'changePercent': -1.066, 'vwap': 173.8969, 'label': 'Dec 19, 17', 'changeOverTime': 0.23336847826241194}, {'date': '2017-12-20', 'open': 174.1599, 'high': 174.7076, 'low': 172.5464, 'close': 173.642, 'volume': 23475649, 'unadjustedVolume': 23475649, 'change': -0.189228, 'changePercent': -0.109, 'vwap': 173.5287, 'label': 'Dec 20, 17', 'changeOverTime': 0.2320260649552079}, {'date': '2017-12-21', 'open': 173.4627, 'high': 175.3052, 'low': 173.393, 'close': 174.2993, 'volume': 20949896, 'unadjustedVolume': 20949896, 'change': 0.657319, 'changePercent': 0.379, 'vwap': 174.5294, 'label': 'Dec 21, 17', 'changeOverTime': 0.2366897450124236}, {'date': '2017-12-22', 'open': 173.9706, 'high': 174.7116, 'low': 173.7914, 'close': 174.2993, 'volume': 16349444, 'unadjustedVolume': 16349444, 'change': 0, 'changePercent': 0, 'vwap': 174.3149, 'label': 'Dec 22, 17', 'changeOverTime': 0.2366897450124236}, {'date': '2017-12-26', 'open': 170.1064, 'high': 170.7737, 'low': 168.9899, 'close': 169.8773, 'volume': 33185536, 'unadjustedVolume': 33185536, 'change': -4.422, 'changePercent': -2.537, 'vwap': 169.7422, 'label': 'Dec 26, 17', 'changeOverTime': 0.2053147363207941}, {'date': '2017-12-27', 'open': 169.4092, 'high': 170.0865, 'low': 169.0208, 'close': 169.9072, 'volume': 21498213, 'unadjustedVolume': 21498213, 'change': 0.029878, 'changePercent': 0.018, 'vwap': 169.5543, 'label': 'Dec 27, 17', 'changeOverTime': 0.20552688303266195}, {'date': '2017-12-28', 'open': 170.3056, 'high': 171.1521, 'low': 169.7877, 'close': 170.3852, 'volume': 16480187, 'unadjustedVolume': 16480187, 'change': 0.478051, 'changePercent': 0.281, 'vwap': 170.4622, 'label': 'Dec 28, 17', 'changeOverTime': 0.20891839233944604}, {'date': '2017-12-29', 'open': 169.8275, 'high': 169.8972, 'low': 168.5328, 'close': 168.5428, 'volume': 25999922, 'unadjustedVolume': 25999922, 'change': -1.8425, 'changePercent': -1.081, 'vwap': 169.059, 'label': 'Dec 29, 17', 'changeOverTime': 0.19584618157204256}, {'date': '2018-01-02', 'open': 169.469, 'high': 171.6003, 'low': 168.5726, 'close': 171.5605, 'volume': 25555934, 'unadjustedVolume': 25555934, 'change': 3.0177, 'changePercent': 1.79, 'vwap': 170.6161, 'label': 'Jan 2, 18', 'changeOverTime': 0.2172573900136369}, {'date': '2018-01-03', 'open': 171.8294, 'high': 173.8412, 'low': 171.2617, 'close': 171.5306, 'volume': 29517899, 'unadjustedVolume': 29517899, 'change': -0.029878, 'changePercent': -0.017, 'vwap': 172.411, 'label': 'Jan 3, 18', 'changeOverTime': 0.21704524330176903}, {'date': '2018-01-04', 'open': 171.8393, 'high': 172.7655, 'low': 171.3812, 'close': 172.3273, 'volume': 22434597, 'unadjustedVolume': 22434597, 'change': 0.796751, 'changePercent': 0.464, 'vwap': 172.269, 'label': 'Jan 4, 18', 'changeOverTime': 0.22269799532000098}, {'date': '2018-01-05', 'open': 172.7357, 'high': 174.6578, 'low': 172.3472, 'close': 174.2893, 'volume': 23660018, 'unadjustedVolume': 23660018, 'change': 1.962, 'changePercent': 1.139, 'vwap': 173.9627, 'label': 'Jan 5, 18', 'changeOverTime': 0.23661879293487587}, {'date': '2018-01-08', 'open': 173.642, 'high': 174.8968, 'low': 173.2237, 'close': 173.642, 'volume': 20567766, 'unadjustedVolume': 20567766, 'change': -0.64736, 'changePercent': -0.371, 'vwap': 173.9191, 'label': 'Jan 8, 18', 'changeOverTime': 0.2320260649552079}, {'date': '2018-01-09', 'open': 173.8412, 'high': 174.3491, 'low': 172.7058, 'close': 173.622, 'volume': 21583997, 'unadjustedVolume': 21583997, 'change': -0.019919, 'changePercent': -0.011, 'vwap': 173.5961, 'label': 'Jan 9, 18', 'changeOverTime': 0.23188416080011245}, {'date': '2018-01-10', 'open': 172.4568, 'high': 173.5922, 'low': 172.2974, 'close': 173.5822, 'volume': 23959895, 'unadjustedVolume': 23959895, 'change': -0.039838, 'changePercent': -0.023, 'vwap': 172.9207, 'label': 'Jan 10, 18', 'changeOverTime': 0.23160177153147218}, {'date': '2018-01-11', 'open': 173.881, 'high': 174.7759, 'low': 173.7814, 'close': 174.5682, 'volume': 18667729, 'unadjustedVolume': 18667729, 'change': 0.98598, 'changePercent': 0.568, 'vwap': 174.4252, 'label': 'Jan 11, 18', 'changeOverTime': 0.23859764637768346}, {'date': '2018-01-12', 'open': 175.4645, 'high': 176.6397, 'low': 174.9367, 'close': 176.3708, 'volume': 25418080, 'unadjustedVolume': 25418080, 'change': 1.8026, 'changePercent': 1.033, 'vwap': 175.9802, 'label': 'Jan 12, 18', 'changeOverTime': 0.2513874678764469}, {'date': '2018-01-16', 'open': 177.1775, 'high': 178.6615, 'low': 175.4247, 'close': 175.4745, 'volume': 29565947, 'unadjustedVolume': 29565947, 'change': -0.896346, 'changePercent': -0.508, 'vwap': 176.7916, 'label': 'Jan 16, 18', 'changeOverTime': 0.24502803316583913}, {'date': '2018-01-17', 'open': 175.4347, 'high': 178.5221, 'low': 174.359, 'close': 178.3727, 'volume': 34386836, 'unadjustedVolume': 34386836, 'change': 2.8982, 'changePercent': 1.652, 'vwap': 176.5264, 'label': 'Jan 17, 18', 'changeOverTime': 0.26559136428073754}, {'date': '2018-01-18', 'open': 178.6416, 'high': 179.3686, 'low': 177.5261, 'close': 178.532, 'volume': 31193352, 'unadjustedVolume': 31193352, 'change': 0.15935, 'changePercent': 0.089, 'vwap': 178.6482, 'label': 'Jan 18, 18', 'changeOverTime': 0.2667216308760737}, {'date': '2018-01-19', 'open': 177.8847, 'high': 178.8507, 'low': 176.6895, 'close': 177.7353, 'volume': 32425067, 'unadjustedVolume': 32425067, 'change': -0.796751, 'changePercent': -0.446, 'vwap': 177.6857, 'label': 'Jan 19, 18', 'changeOverTime': 0.26106887885784175}, {'date': '2018-01-22', 'open': 176.58, 'high': 177.058, 'low': 175.8844, 'close': 176.2812, 'volume': 27108551, 'unadjustedVolume': 27108551, 'change': -1.4541, 'changePercent': -0.818, 'vwap': 176.3942, 'label': 'Jan 22, 18', 'changeOverTime': 0.2507517372616188}, {'date': '2018-01-23', 'open': 176.58, 'high': 178.7113, 'low': 176.1019, 'close': 176.321, 'volume': 32689146, 'unadjustedVolume': 32689146, 'change': 0.039838, 'changePercent': 0.023, 'vwap': 177.2555, 'label': 'Jan 23, 18', 'changeOverTime': 0.25103412653025886}, {'date': '2018-01-24', 'open': 176.5302, 'high': 176.58, 'low': 172.4966, 'close': 173.5125, 'volume': 51105090, 'unadjustedVolume': 51105090, 'change': -2.8085, 'changePercent': -1.593, 'vwap': 174.1014, 'label': 'Jan 24, 18', 'changeOverTime': 0.23110723555096405}, {'date': '2018-01-25', 'open': 173.7963, 'high': 174.2395, 'low': 169.8375, 'close': 170.4151, 'volume': 41529004, 'unadjustedVolume': 41529004, 'change': -3.0974, 'changePercent': -1.785, 'vwap': 171.5661, 'label': 'Jan 25, 18', 'changeOverTime': 0.2091305390513139}, {'date': '2018-01-26', 'open': 171.3015, 'high': 171.3015, 'low': 169.3694, 'close': 170.8135, 'volume': 39143011, 'unadjustedVolume': 39143011, 'change': 0.398376, 'changePercent': 0.234, 'vwap': 170.3453, 'label': 'Jan 26, 18', 'changeOverTime': 0.2119572698208176}, {'date': '2018-01-29', 'open': 169.469, 'high': 169.469, 'low': 166.3915, 'close': 167.2779, 'volume': 50640406, 'unadjustedVolume': 50640406, 'change': -3.5356, 'changePercent': -2.07, 'vwap': 167.6336, 'label': 'Jan 29, 18', 'changeOverTime': 0.18687145328302346}, {'date': '2018-01-30', 'open': 164.8528, 'high': 166.6903, 'low': 164.0312, 'close': 166.2919, 'volume': 46048185, 'unadjustedVolume': 46048185, 'change': -0.985979, 'changePercent': -0.589, 'vwap': 165.539, 'label': 'Jan 30, 18', 'changeOverTime': 0.17987557843681215}, {'date': '2018-01-31', 'open': 166.1923, 'high': 167.7577, 'low': 165.8238, 'close': 166.7501, 'volume': 32478930, 'unadjustedVolume': 32478930, 'change': 0.458132, 'changePercent': 0.275, 'vwap': 166.6654, 'label': 'Jan 31, 18', 'changeOverTime': 0.1831266026300516}, {'date': '2018-02-01', 'open': 166.4861, 'high': 167.9352, 'low': 166.0828, 'close': 167.0986, 'volume': 47230787, 'unadjustedVolume': 47230787, 'change': 0.348578, 'changePercent': 0.209, 'vwap': 166.9214, 'label': 'Feb 1, 18', 'changeOverTime': 0.18559928253259184}, {'date': '2018-02-02', 'open': 165.3259, 'high': 166.1226, 'low': 159.4498, 'close': 159.8482, 'volume': 86593825, 'unadjustedVolume': 86593825, 'change': -7.2504, 'changePercent': -4.339, 'vwap': 162.0671, 'label': 'Feb 2, 18', 'changeOverTime': 0.1341561882273474}, {'date': '2018-02-05', 'open': 158.4539, 'high': 163.2145, 'low': 155.3665, 'close': 155.8545, 'volume': 72738522, 'unadjustedVolume': 72738522, 'change': -3.9937, 'changePercent': -2.498, 'vwap': 159.8864, 'label': 'Feb 5, 18', 'changeOverTime': 0.10582005701708949}, {'date': '2018-02-06', 'open': 154.2012, 'high': 163.0551, 'low': 153.3746, 'close': 162.3679, 'volume': 68243838, 'unadjustedVolume': 68243838, 'change': 6.5134, 'changePercent': 4.179, 'vwap': 158.9591, 'label': 'Feb 6, 18', 'changeOverTime': 0.15203398320706218}, {'date': '2018-02-07', 'open': 162.4227, 'high': 162.7364, 'low': 158.4225, 'close': 158.8921, 'volume': 51608580, 'unadjustedVolume': 51608580, 'change': -3.4758, 'changePercent': -2.141, 'vwap': 160.4237, 'label': 'Feb 7, 18', 'changeOverTime': 0.12737246009300393}, {'date': '2018-02-08', 'open': 159.6391, 'high': 160.3462, 'low': 154.4004, 'close': 154.5199, 'volume': 54390516, 'unadjustedVolume': 54390516, 'change': -4.3722, 'changePercent': -2.752, 'vwap': 158.3543, 'label': 'Feb 8, 18', 'changeOverTime': 0.09635079274756246}, {'date': '2018-02-09', 'open': 157.07, 'high': 157.89, 'low': 150.24, 'close': 156.41, 'volume': 70672608, 'unadjustedVolume': 70672608, 'change': 1.8901, 'changePercent': 1.223, 'vwap': 154.855, 'label': 'Feb 9, 18', 'changeOverTime': 0.10976144492486879}, {'date': '2018-02-12', 'open': 158.5, 'high': 163.89, 'low': 157.51, 'close': 162.71, 'volume': 60819539, 'unadjustedVolume': 60819539, 'change': 6.3, 'changePercent': 4.028, 'vwap': 161.4833, 'label': 'Feb 12, 18', 'changeOverTime': 0.15446125377997194}, {'date': '2018-02-13', 'open': 161.95, 'high': 164.75, 'low': 161.65, 'close': 164.34, 'volume': 32549163, 'unadjustedVolume': 32549163, 'change': 1.63, 'changePercent': 1.002, 'vwap': 163.3488, 'label': 'Feb 13, 18', 'changeOverTime': 0.1660264424202605}, {'date': '2018-02-14', 'open': 163.045, 'high': 167.54, 'low': 162.88, 'close': 167.37, 'volume': 40644933, 'unadjustedVolume': 40644933, 'change': 3.03, 'changePercent': 1.844, 'vwap': 165.5906, 'label': 'Feb 14, 18', 'changeOverTime': 0.18752492191723866}, {'date': '2018-02-15', 'open': 169.79, 'high': 173.09, 'low': 169, 'close': 172.99, 'volume': 51147171, 'unadjustedVolume': 51147171, 'change': 5.62, 'changePercent': 3.358, 'vwap': 171.4911, 'label': 'Feb 15, 18', 'changeOverTime': 0.22739998949909254}, {'date': '2018-02-16', 'open': 172.36, 'high': 174.82, 'low': 171.77, 'close': 172.43, 'volume': 40176091, 'unadjustedVolume': 40176091, 'change': -0.56, 'changePercent': -0.324, 'vwap': 173.4476, 'label': 'Feb 16, 18', 'changeOverTime': 0.2234266731564167}, {'date': '2018-02-20', 'open': 172.05, 'high': 174.26, 'low': 171.42, 'close': 171.85, 'volume': 33930540, 'unadjustedVolume': 33930540, 'change': -0.58, 'changePercent': -0.336, 'vwap': 172.9487, 'label': 'Feb 20, 18', 'changeOverTime': 0.2193114526586452}, {'date': '2018-02-21', 'open': 172.83, 'high': 174.12, 'low': 171.01, 'close': 171.07, 'volume': 37471623, 'unadjustedVolume': 37471623, 'change': -0.78, 'changePercent': -0.454, 'vwap': 172.9701, 'label': 'Feb 21, 18', 'changeOverTime': 0.21377719060991815}, {'date': '2018-02-22', 'open': 171.8, 'high': 173.95, 'low': 171.71, 'close': 172.5, 'volume': 30991940, 'unadjustedVolume': 30991940, 'change': 1.43, 'changePercent': 0.836, 'vwap': 172.9385, 'label': 'Feb 22, 18', 'changeOverTime': 0.22392333769925113}, {'date': '2018-02-23', 'open': 173.67, 'high': 175.65, 'low': 173.54, 'close': 175.5, 'volume': 33812360, 'unadjustedVolume': 33812360, 'change': 3, 'changePercent': 1.739, 'vwap': 174.6584, 'label': 'Feb 23, 18', 'changeOverTime': 0.24520896096358594}, {'date': '2018-02-26', 'open': 176.35, 'high': 179.39, 'low': 176.21, 'close': 178.97, 'volume': 38162174, 'unadjustedVolume': 38162174, 'change': 3.47, 'changePercent': 1.977, 'vwap': 178.3715, 'label': 'Feb 26, 18', 'changeOverTime': 0.2698293318726665}, {'date': '2018-02-27', 'open': 179.1, 'high': 180.48, 'low': 178.16, 'close': 178.39, 'volume': 38928125, 'unadjustedVolume': 38928125, 'change': -0.58, 'changePercent': -0.324, 'vwap': 179.2937, 'label': 'Feb 27, 18', 'changeOverTime': 0.26571411137489503}, {'date': '2018-02-28', 'open': 179.26, 'high': 180.615, 'low': 178.05, 'close': 178.12, 'volume': 37782138, 'unadjustedVolume': 37782138, 'change': -0.27, 'changePercent': -0.151, 'vwap': 179.3553, 'label': 'Feb 28, 18', 'changeOverTime': 0.26379840528110504}, {'date': '2018-03-01', 'open': 178.54, 'high': 179.775, 'low': 172.66, 'close': 175, 'volume': 48801970, 'unadjustedVolume': 48801970, 'change': -3.12, 'changePercent': -1.752, 'vwap': 176.0889, 'label': 'Mar 1, 18', 'changeOverTime': 0.2416613570861968}, {'date': '2018-03-02', 'open': 172.8, 'high': 176.3, 'low': 172.45, 'close': 176.21, 'volume': 38453950, 'unadjustedVolume': 38453950, 'change': 1.21, 'changePercent': 0.691, 'vwap': 174.7679, 'label': 'Mar 2, 18', 'changeOverTime': 0.2502465584694786}, {'date': '2018-03-05', 'open': 175.21, 'high': 177.74, 'low': 174.52, 'close': 176.82, 'volume': 28401366, 'unadjustedVolume': 28401366, 'change': 0.61, 'changePercent': 0.346, 'vwap': 176.5212, 'label': 'Mar 5, 18', 'changeOverTime': 0.2545746351998932}, {'date': '2018-03-06', 'open': 177.91, 'high': 178.25, 'low': 176.13, 'close': 176.67, 'volume': 23788506, 'unadjustedVolume': 23788506, 'change': -0.15, 'changePercent': -0.085, 'vwap': 177.0443, 'label': 'Mar 6, 18', 'changeOverTime': 0.25351035403667643}, {'date': '2018-03-07', 'open': 174.94, 'high': 175.85, 'low': 174.27, 'close': 175.03, 'volume': 31703462, 'unadjustedVolume': 31703462, 'change': -1.64, 'changePercent': -0.928, 'vwap': 175.0684, 'label': 'Mar 7, 18', 'changeOverTime': 0.24187421331884015}, {'date': '2018-03-08', 'open': 175.48, 'high': 177.12, 'low': 175.07, 'close': 176.94, 'volume': 23774107, 'unadjustedVolume': 23774107, 'change': 1.91, 'changePercent': 1.091, 'vwap': 176.1886, 'label': 'Mar 8, 18', 'changeOverTime': 0.25542606013046665}, {'date': '2018-03-09', 'open': 177.96, 'high': 180, 'low': 177.39, 'close': 179.98, 'volume': 32185162, 'unadjustedVolume': 32185162, 'change': 3.04, 'changePercent': 1.718, 'vwap': 179.1455, 'label': 'Mar 9', 'changeOverTime': 0.2769954917049925}, {'date': '2018-03-12', 'open': 180.29, 'high': 182.39, 'low': 180.21, 'close': 181.72, 'volume': 32207081, 'unadjustedVolume': 32207081, 'change': 1.74, 'changePercent': 0.967, 'vwap': 181.657, 'label': 'Mar 12', 'changeOverTime': 0.2893411531983068}, {'date': '2018-03-13', 'open': 182.59, 'high': 183.5, 'low': 179.24, 'close': 179.97, 'volume': 31693529, 'unadjustedVolume': 31693529, 'change': -1.75, 'changePercent': -0.963, 'vwap': 181.586, 'label': 'Mar 13', 'changeOverTime': 0.2769245396274448}, {'date': '2018-03-14', 'open': 180.32, 'high': 180.52, 'low': 177.81, 'close': 178.44, 'volume': 29368356, 'unadjustedVolume': 29368356, 'change': -1.53, 'changePercent': -0.85, 'vwap': 178.7619, 'label': 'Mar 14', 'changeOverTime': 0.26606887176263405}, {'date': '2018-03-15', 'open': 178.5, 'high': 180.24, 'low': 178.0701, 'close': 178.65, 'volume': 22743798, 'unadjustedVolume': 22743798, 'change': 0.21, 'changePercent': 0.118, 'vwap': 179.0623, 'label': 'Mar 15', 'changeOverTime': 0.26755886539113755}, {'date': '2018-03-16', 'open': 178.65, 'high': 179.12, 'low': 177.62, 'close': 178.02, 'volume': 39404688, 'unadjustedVolume': 39404688, 'change': -0.63, 'changePercent': -0.353, 'vwap': 178.3383, 'label': 'Mar 16', 'changeOverTime': 0.26308888450562723}, {'date': '2018-03-19', 'open': 177.32, 'high': 177.47, 'low': 173.66, 'close': 175.3, 'volume': 33446771, 'unadjustedVolume': 33446771, 'change': -2.72, 'changePercent': -1.528, 'vwap': 175.2302, 'label': 'Mar 19', 'changeOverTime': 0.24378991941263037}, {'date': '2018-03-20', 'open': 175.24, 'high': 176.8, 'low': 174.94, 'close': 175.24, 'volume': 19649350, 'unadjustedVolume': 19649350, 'change': -0.06, 'changePercent': -0.034, 'vwap': 175.7335, 'label': 'Mar 20', 'changeOverTime': 0.24336420694734365}, {'date': '2018-03-21', 'open': 175.04, 'high': 175.09, 'low': 171.26, 'close': 171.27, 'volume': 37054935, 'unadjustedVolume': 37054935, 'change': -3.97, 'changePercent': -2.265, 'vwap': 173.1398, 'label': 'Mar 21', 'changeOverTime': 0.21519623216087394}, {'date': '2018-03-22', 'open': 170, 'high': 172.68, 'low': 168.6, 'close': 168.85, 'volume': 41490767, 'unadjustedVolume': 41490767, 'change': -2.42, 'changePercent': -1.413, 'vwap': 170.167, 'label': 'Mar 22', 'changeOverTime': 0.1980258293943104}, {'date': '2018-03-23', 'open': 168.39, 'high': 169.92, 'low': 164.94, 'close': 164.94, 'volume': 41028784, 'unadjustedVolume': 41028784, 'change': -3.91, 'changePercent': -2.316, 'vwap': 167.5806, 'label': 'Mar 23', 'changeOverTime': 0.17028356707312742}, {'date': '2018-03-26', 'open': 168.07, 'high': 173.1, 'low': 166.44, 'close': 172.77, 'volume': 37541236, 'unadjustedVolume': 37541236, 'change': 7.83, 'changePercent': 4.747, 'vwap': 170.0402, 'label': 'Mar 26', 'changeOverTime': 0.22583904379304134}, {'date': '2018-03-27', 'open': 173.68, 'high': 175.15, 'low': 166.92, 'close': 168.34, 'volume': 40922579, 'unadjustedVolume': 40922579, 'change': -4.43, 'changePercent': -2.564, 'vwap': 171.5377, 'label': 'Mar 27', 'changeOverTime': 0.19440727343937356}, {'date': '2018-03-28', 'open': 167.25, 'high': 170.02, 'low': 165.19, 'close': 166.48, 'volume': 41668545, 'unadjustedVolume': 41668545, 'change': -1.86, 'changePercent': -1.105, 'vwap': 167.1902, 'label': 'Mar 28', 'changeOverTime': 0.18121018701548589}, {'date': '2018-03-29', 'open': 167.805, 'high': 171.75, 'low': 166.9, 'close': 167.78, 'volume': 38398505, 'unadjustedVolume': 38398505, 'change': 1.3, 'changePercent': 0.781, 'vwap': 169.2088, 'label': 'Mar 29', 'changeOverTime': 0.19043395709669772}, {'date': '2018-04-02', 'open': 167.88, 'high': 168.94, 'low': 164.47, 'close': 166.68, 'volume': 37586791, 'unadjustedVolume': 37586791, 'change': -1.1, 'changePercent': -0.656, 'vwap': 166.3366, 'label': 'Apr 2', 'changeOverTime': 0.18262922856644168}, {'date': '2018-04-03', 'open': 167.64, 'high': 168.7455, 'low': 164.88, 'close': 168.39, 'volume': 30278046, 'unadjustedVolume': 30278046, 'change': 1.71, 'changePercent': 1.026, 'vwap': 166.9003, 'label': 'Apr 3', 'changeOverTime': 0.19476203382711235}, {'date': '2018-04-04', 'open': 164.88, 'high': 172.01, 'low': 164.77, 'close': 171.61, 'volume': 34605489, 'unadjustedVolume': 34605489, 'change': 3.22, 'changePercent': 1.912, 'vwap': 169.1774, 'label': 'Apr 4', 'changeOverTime': 0.21760860279749858}, {'date': '2018-04-05', 'open': 172.58, 'high': 174.2304, 'low': 172.08, 'close': 172.8, 'volume': 26933197, 'unadjustedVolume': 26933197, 'change': 1.19, 'changePercent': 0.693, 'vwap': 173.2367, 'label': 'Apr 5', 'changeOverTime': 0.2260519000256847}, {'date': '2018-04-06', 'open': 170.97, 'high': 172.48, 'low': 168.2, 'close': 168.38, 'volume': 35005290, 'unadjustedVolume': 35005290, 'change': -4.42, 'changePercent': -2.558, 'vwap': 169.8563, 'label': 'Apr 6', 'changeOverTime': 0.19469108174956465}, {'date': '2018-04-09', 'open': 169.88, 'high': 173.09, 'low': 169.845, 'close': 170.05, 'volume': 29017718, 'unadjustedVolume': 29017718, 'change': 1.67, 'changePercent': 0.992, 'vwap': 171.555, 'label': 'Apr 9', 'changeOverTime': 0.20654007870004445}]\n"
     ]
    },
    {
     "name": "stdout",
     "output_type": "stream",
     "text": [
      "159.96885498007973\n"
     ]
    }
   ],
   "source": [
    "import requests\n",
    "\n",
    "class StockPricesAPI:\n",
    "\n",
    "    URL_BASE = \"https://api.iextrading.com/1.0/stock/\"\n",
    "\n",
    "    def get_current_price(self, ticker):\n",
    "        url = self.URL_BASE + '{}/price'.format(ticker)\n",
    "        response = requests.get(url)\n",
    "        return response.json()\n",
    "\n",
    "    def get_1_yr_price_data(self, ticker):\n",
    "        url = self.URL_BASE + '{}/chart/1y'.format(ticker)\n",
    "        response = requests.get(url)\n",
    "        return response.json()\n",
    "\n",
    "    def get_1_yr_avg_price(self, ticker):\n",
    "        one_yr_prices = self.get_1_yr_price_data(ticker)\n",
    "        average = sum([d['close'] for d in one_yr_prices]) / len(one_yr_prices)\n",
    "        return average\n",
    "    \n",
    "if __name__ == \"__main__\":\n",
    "    s = StockPricesAPI()\n",
    "    print(s.get_current_price('aapl'))\n",
    "    print(s.get_1_yr_price_data('aapl'))\n",
    "    print(s.get_1_yr_avg_price('aapl'))\n"
   ]
  },
  {
   "cell_type": "markdown",
   "metadata": {},
   "source": [
    "##### What methods are important to test in this class?\n",
    "<br>\n",
    "##### What issues may arise in the methods?\n",
    "<br>\n",
    "##### How could we test the get_1_yr_avg_price method?\n",
    "<br>"
   ]
  },
  {
   "cell_type": "code",
   "execution_count": 39,
   "metadata": {},
   "outputs": [
    {
     "name": "stdout",
     "output_type": "stream",
     "text": [
      "============================= test session starts =============================\n",
      "platform win32 -- Python 3.6.3, pytest-3.5.0, py-1.5.3, pluggy-0.6.0 -- c:\\dev\\venvs\\testing\\scripts\\python.exe\n",
      "cachedir: .pytest_cache\n",
      "rootdir: c:\\dev\\repos\\python_testing\\jupyter_presentation, inifile: pytest.ini\n",
      "plugins: django-3.1.2, cov-2.5.1\n",
      "collecting ... collected 4 items\n",
      "\n",
      "Python Testing.py::test_get_1_yr_avg_price <- <ipython-input-39-5115088b174a> PASSED [ 25%]\n",
      "Python Testing.py::TestFib::test_fib_series <- <ipython-input-30-37a129f9e642> PASSED [ 50%]\n",
      "Python Testing.py::SomeTestCode::test_one <- <ipython-input-34-8eb78d9bfefc> PASSED [ 75%]\n",
      "Python Testing.py::SomeTestCode::test_two <- <ipython-input-34-8eb78d9bfefc> PASSED [100%]\n",
      "\n",
      "========================== slowest 5 test durations ===========================\n",
      "0.00s setup    Python Testing.py::TestFib::test_fib_series\n",
      "0.00s call     Python Testing.py::SomeTestCode::test_one\n",
      "0.00s call     Python Testing.py::SomeTestCode::test_two\n",
      "0.00s teardown Python Testing.py::SomeTestCode::test_two\n",
      "0.00s setup    Python Testing.py::SomeTestCode::test_two\n",
      "============================== warnings summary ===============================\n",
      "None\n",
      "  Module already imported so cannot be rewritten: pytest_django\n",
      "  Module already imported so cannot be rewritten: pytest_cov\n",
      "\n",
      "-- Docs: http://doc.pytest.org/en/latest/warnings.html\n",
      "==================== 4 passed, 2 warnings in 0.15 seconds =====================\n"
     ]
    }
   ],
   "source": [
    "%%run_pytest[clean] -vvv\n",
    "\n",
    "\n",
    "def test_get_1_yr_avg_price():\n",
    "\n",
    "    def my_price_data(ticker):\n",
    "        return [{'date': '2017-04-10',\n",
    "                 'open': 141.3635,\n",
    "                 'high': 141.6384,\n",
    "                 'low': 140.6744,\n",
    "                 'close': 140.9402,\n",
    "                 'volume': 18933397,\n",
    "                 'unadjustedVolume': 18933397,\n",
    "                 'change': -0.167353,\n",
    "                 'changePercent': -0.119,\n",
    "                 'vwap': 141.1334,\n",
    "                 'label': 'Apr 10, 17',\n",
    "                 'changeOverTime': 0}]\n",
    "\n",
    "    s = StockPricesAPI()\n",
    "    s.get_1_yr_price_data = my_price_data\n",
    "    assert s.get_1_yr_avg_price('some-ticker') == 140.9402\n",
    "\n",
    "    s.get_1_yr_price_data = lambda ticker: [{'close': 3}, {'close': 1}]\n",
    "    assert s.get_1_yr_avg_price('some-ticker') == 2"
   ]
  },
  {
   "cell_type": "markdown",
   "metadata": {},
   "source": [
    "#### TODO: implement the is_good_buy() method and test cases."
   ]
  },
  {
   "cell_type": "markdown",
   "metadata": {},
   "source": [
    "# Conclusion\n",
    "- Write them **pytests, unittests and doctests.**\n",
    "- Replace behaviors to make tests fast and isolated using **patching, inheritance and injection.**\n",
    "- Automate them with **jenkins** and look at pretty graphs, **coverage** and stuff.\n",
    "\n",
    "##### program like a boss\n",
    "<img src=\"files/like-a-boss.jpg\" align=\"left\">\n",
    "\n",
    "\n"
   ]
  },
  {
   "cell_type": "markdown",
   "metadata": {},
   "source": [
    "# Additional Resources\n",
    "- [Python Testing Tools Taxonomy](https://wiki.python.org/moin/PythonTestingToolsTaxonomy)\n",
    "- [unittest](https://docs.python.org/3/library/unittest.html)\n",
    "- [doctest](https://docs.python.org/3/library/doctest.html)\n",
    "- [pytest](https://docs.pytest.org/en/latest/)\n",
    "- [coverage](https://bitbucket.org/ned/coveragepy)\n",
    "- [Learning to Test with Python](https://medium.freecodecamp.org/learning-to-test-with-python-997ace2d8abe)\n"
   ]
  },
  {
   "cell_type": "markdown",
   "metadata": {},
   "source": [
    "# Thank You\n"
   ]
  },
  {
   "cell_type": "code",
   "execution_count": null,
   "metadata": {},
   "outputs": [],
   "source": []
  }
 ],
 "metadata": {
  "celltoolbar": "Raw Cell Format",
  "kernelspec": {
   "display_name": "Python 3",
   "language": "python",
   "name": "python3"
  },
  "language_info": {
   "codemirror_mode": {
    "name": "ipython",
    "version": 3
   },
   "file_extension": ".py",
   "mimetype": "text/x-python",
   "name": "python",
   "nbconvert_exporter": "python",
   "pygments_lexer": "ipython3",
   "version": "3.6.3"
  }
 },
 "nbformat": 4,
 "nbformat_minor": 2
}
