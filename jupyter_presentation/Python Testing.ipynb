{
 "cells": [
  {
   "cell_type": "markdown",
   "metadata": {},
   "source": [
    "# Testing, Mocking and Python\n",
    "\n",
    "##### Unit testing in Python and mocking techniques.\n",
    "\n",
    "<img src=\"files/unittest.jpg\" height=\"65%\" width=\"65%\" align=\"left\">\n"
   ]
  },
  {
   "cell_type": "markdown",
   "metadata": {},
   "source": [
    "# Introduction\n",
    "\n",
    "## Me\n",
    "- Darshan Ahluwalia\n",
    "- Using Python professionally for about 10 years\n",
    "- Tutored Python at UC Irvine\n",
    "- I also like [gardening](http://husbandryandharvest.tumblr.com) and making [adventure shorts](https://vimeo.com/user38627724)\n",
    "\n",
    "<img src=\"files/lost-arrow.jpg\" align=\"left\">\n"
   ]
  },
  {
   "cell_type": "markdown",
   "metadata": {},
   "source": [
    "## Workshop?\n",
    "- I'll ask questions\n",
    "- You ask questions\n",
    "- Laptop not really needed\n",
    "- Its a jupyter notebook!\n",
    "- [Source on GitHub](https://github.com/darshahlu/python_testing)\n",
    "\n",
    "<img src=\"files/funny-horses.jpg\" align=\"left\" height=\"85%\" width=\"85%\">"
   ]
  },
  {
   "cell_type": "markdown",
   "metadata": {},
   "source": [
    "\n",
    "## Outline\n",
    "\n",
    "1. Unit Testing Principles\n",
    "   1. What\n",
    "   2. Why\n",
    "   3. Rules\n",
    "2. Mocking\n",
    "   1. Monkey Patching\n",
    "   2. Template Method (Inheritance)\n",
    "   3. Dependency Injection\n",
    "3. Testing in Python: HOWTO\n",
    "   1. unittest\n",
    "   2. doctest\n",
    "   3. pytest\n",
    "4. Demo/example\n",
    "   1. pytest demo\n",
    "   2. Stock picker problem\n"
   ]
  },
  {
   "cell_type": "markdown",
   "metadata": {},
   "source": [
    "# Unit Testing Principles\n",
    "##### What, why, and rules\n",
    "<img src=\"files/monkey-blocks.jpg\" height=\"55%\" width=\"55%\" align=\"left\">\n"
   ]
  },
  {
   "cell_type": "markdown",
   "metadata": {},
   "source": [
    "##### Let's define what is unit test by first looking at the code below."
   ]
  },
  {
   "cell_type": "code",
   "execution_count": null,
   "metadata": {},
   "outputs": [],
   "source": [
    "def is_balanced(s):\n",
    "    parens = {\n",
    "        ')': '(',\n",
    "        ']': '[',\n",
    "        '}': '{',\n",
    "    }\n",
    "    opens = parens.values()\n",
    "    closes = parens.keys()\n",
    "    found_opens = list()\n",
    "    for c in s:\n",
    "        if c in opens:\n",
    "            found_opens.append(c)\n",
    "        elif c in closes:\n",
    "            try:\n",
    "                last_open = found_opens.pop()\n",
    "            except IndexError:\n",
    "                return False\n",
    "            if parens[c] != last_open:\n",
    "                return False\n",
    "    return not len(found_opens)\n",
    "\n",
    "\n",
    "# Do you do this? Is this testing your code? Is this Unit Test?\n",
    "if __name__ == \"__main__\":\n",
    "    print(is_balanced(''))\n",
    "    print(is_balanced('hello'))\n"
   ]
  },
  {
   "cell_type": "markdown",
   "metadata": {},
   "source": [
    "#### What is Unit Test?\n",
    "- Software which tests software.\n",
    "- Pieces of software, units, are tested in isolation.\n",
    "- Automatable."
   ]
  },
  {
   "cell_type": "code",
   "execution_count": null,
   "metadata": {},
   "outputs": [],
   "source": [
    "# This is unit test!\n",
    "\n",
    "def test_is_balanced():\n",
    "    assert is_balanced('') == True\n",
    "    assert is_balanced('hello') == True\n",
    "    assert is_balanced('(yes)') == True\n",
    "    assert is_balanced('[(nope])') == False\n",
    "    assert is_balanced('{}[]([wee!])') == True\n",
    "    assert is_balanced('{') == False\n",
    "    assert is_balanced(')') == False\n"
   ]
  },
  {
   "cell_type": "markdown",
   "metadata": {},
   "source": [
    "##### Now let's talk about why we write tests. What does the is_balanced function do?"
   ]
  },
  {
   "cell_type": "markdown",
   "metadata": {},
   "source": [
    "#### Why Unit Test?\n",
    "- Requires you to write better code: more modular, more readable, easier to identify dependencies, etc.\n",
    "- Documents the code in source: tests describe behaviors and functionality.\n",
    "- Supports maintainance: adding features, refactoring, etc. (Did I break anything?)\n",
    "- Finds issues early: during development.\n",
    "- For onboarding developers: a sanity check that the environment is setup correctly."
   ]
  },
  {
   "cell_type": "markdown",
   "metadata": {},
   "source": [
    "##### Now let's talk about unit testing rules. What are some things one must consider when writing tests?\n",
    "\n",
    "Consider testing software which interacts with a database. What are some problems you might encounter?\n",
    "\n",
    "<img src=\"files/database.png\" align=\"left\">"
   ]
  },
  {
   "cell_type": "markdown",
   "metadata": {},
   "source": [
    "#### Unit Testing Rules\n",
    "\n",
    "Rules:\n",
    "\n",
    "1. Must require no human interaction (e.g. do not ask for inputs).\n",
    "2. Must be deterministic (i.e. always produce the same result).\n",
    "3. Must be fast (sub-second up to few seconds).\n",
    "4. Must be testing in isolation.\n",
    "\n",
    "Guidelines:\n",
    "\n",
    "1. Tests should be independent from each other (no side effects).\n",
    "2. Write the fewest test cases to exercise the code."
   ]
  },
  {
   "cell_type": "markdown",
   "metadata": {},
   "source": [
    "#### Unit Testing Principles Summary\n",
    "- What: software which test software.\n",
    "- Why: reasons. (Software quality)\n",
    "- Rules: fast, isolated, and automatable."
   ]
  },
  {
   "cell_type": "markdown",
   "metadata": {},
   "source": [
    "# Mocking\n",
    "### What, why, and techniques\n",
    "\n",
    "<img src=\"files/mocking.jpg\" align=\"left\">\n"
   ]
  },
  {
   "cell_type": "markdown",
   "metadata": {},
   "source": [
    "\n",
    "#### What is mocking \n",
    "Mocking is the changing of software behavior to specific behaviors.\n",
    "\n",
    "#### Why\n",
    "Mocking is necessary to keep tests fast, isolated and with predictable behavior.\n",
    "\n",
    "#### Techniques\n",
    "The following techniques may be employed to mock out software components:\n",
    "1. monkey patch\n",
    "2. template method (inheritance/override behavior)\n",
    "3. dependency injection"
   ]
  },
  {
   "cell_type": "markdown",
   "metadata": {},
   "source": [
    "# The Monkey Patch \n",
    "##### A mocking technique using a monkey\n",
    "\n",
    "<img src=\"files/monkey-tongue-1.jpg\" height=\"55%\" width=\"55%\" align=\"left\">\n"
   ]
  },
  {
   "cell_type": "markdown",
   "metadata": {},
   "source": [
    "##### To talk about patching, we need to understand: objects and typing."
   ]
  },
  {
   "cell_type": "code",
   "execution_count": null,
   "metadata": {},
   "outputs": [],
   "source": [
    "import math\n",
    "\n",
    "\n",
    "class MyClass:\n",
    "    \"\"\"My class docstring\"\"\"\n",
    "    A_CLASS_VAR = 1\n",
    "    \n",
    "    def __init__(self, a):\n",
    "        self.a = a\n",
    "    \n",
    "    def some_method(self):\n",
    "        pass\n",
    "\n",
    "        \n",
    "my_class_instance = MyClass(a='hi')\n",
    "\n",
    "\n",
    "# What does this tell us about modules, classes and instances?\n",
    "print('math is: ', type(math))\n",
    "print('MyClass is: ', type(MyClass))\n",
    "print('my_class_instance is: ', type(my_class_instance))\n",
    "print()\n",
    "print('math members are: ', dir(math))\n",
    "print('MyClass members are: ', dir(MyClass))\n",
    "print('my_class_instance members are: ', dir(my_class_instance))"
   ]
  },
  {
   "cell_type": "code",
   "execution_count": null,
   "metadata": {},
   "outputs": [],
   "source": [
    "# Will this code execute? What does this tell us about Python's typing?\n",
    "x = None\n",
    "print(\"x is now: %s at %s\" % (x, id(x)))\n",
    "x = False\n",
    "print(\"x is now: %s at %s\" % (x, id(x)))\n",
    "x = 1.2\n",
    "print(\"x is now: %s at %s\" % (x, id(x)))"
   ]
  },
  {
   "cell_type": "markdown",
   "metadata": {},
   "source": [
    "#### In Python, everything is an object and it is dynamically typed. \n"
   ]
  },
  {
   "cell_type": "code",
   "execution_count": null,
   "metadata": {},
   "outputs": [],
   "source": [
    "# So we can do stuff like this:\n",
    "\n",
    "class SomeClass:\n",
    "    \n",
    "    def hello_world(self):\n",
    "        print('hello world')\n",
    "\n",
    "s = SomeClass()\n",
    "\n",
    "\n",
    "\n",
    "print(id(s.hello_world))\n",
    "s.hello_world()\n",
    "\n",
    "\n",
    "\n",
    "def bye_world():\n",
    "    print(\"goodbye world\")\n",
    "\n",
    "s.hello_world = bye_world  # THE MONKEY PATCH!\n",
    "\n",
    "\n",
    "\n",
    "print(id(s.hello_world))\n",
    "s.hello_world()"
   ]
  },
  {
   "cell_type": "markdown",
   "metadata": {},
   "source": [
    "\n",
    "\n",
    "What is monkey patching?  It is:\n",
    "\n",
    "<img src=\"files/god-mode.jpg\" align=\"left\">"
   ]
  },
  {
   "cell_type": "markdown",
   "metadata": {},
   "source": [
    "#### Definition\n",
    "Dynamically change behaviors by reassigning attributes.\n",
    "\n",
    "This can be on any object: an instance of an object, the class itself, a module or a package."
   ]
  },
  {
   "cell_type": "code",
   "execution_count": null,
   "metadata": {},
   "outputs": [],
   "source": [
    "import time\n",
    "\n",
    "class Timer(object):\n",
    "    \n",
    "    def sleep(self, s):\n",
    "        print('sleeping for %i seconds...' % s)\n",
    "        time.sleep(s)\n",
    "        print('done sleeping')\n",
    "\n",
    "timer = Timer()\n",
    "\n",
    "def expensive_operation():\n",
    "    print('performing expensive thingy')\n",
    "    timer.sleep(4)\n",
    "    print('done with it')\n",
    "\n",
    "# We want to test this awesome code.\n",
    "def some_awesome_code(a, b, c):\n",
    "    expensive_operation()\n",
    "    return sum([a, b, c])\n"
   ]
  },
  {
   "cell_type": "code",
   "execution_count": null,
   "metadata": {},
   "outputs": [],
   "source": [
    "# Expect 1 + 2 + 3 == 6\n",
    "print(some_awesome_code(1, 2, 3))\n"
   ]
  },
  {
   "cell_type": "code",
   "execution_count": null,
   "metadata": {},
   "outputs": [],
   "source": [
    "# Let's make this fast by monkey patching the timer instance attribute.\n",
    "\n",
    "def fast_sleep(seconds):\n",
    "    print('waiting %i seconds.. not!' % seconds)\n",
    "    return\n",
    "\n",
    "timer.sleep = fast_sleep\n"
   ]
  },
  {
   "cell_type": "code",
   "execution_count": null,
   "metadata": {},
   "outputs": [],
   "source": [
    "some_awesome_code(1, 2, 3)\n"
   ]
  },
  {
   "cell_type": "markdown",
   "metadata": {},
   "source": [
    "#### More About Patching\n",
    "- Patching can be on any object: an instance of an object, the class itself, a module or a package.\n",
    "- patching the instance\n",
    "``` timer.sleep = fast_sleep ```\n",
    "\n",
    "- patching the Timer class\n",
    "``` Timer.sleep = fast_sleep ```\n",
    "\n",
    "- patching the module directly\n",
    "``` time.sleep = fast_sleep ```\n",
    "\n",
    "#### What's the difference?\n",
    "\n",
    "\n",
    " \n",
    "\n"
   ]
  },
  {
   "cell_type": "markdown",
   "metadata": {},
   "source": [
    "#### Patching Rules\n",
    "\n",
    "- Remember unittest guidelines: no side-effects (clean up after yourself)\n",
    "```\n",
    "original_sleep = time.sleep\n",
    "time.sleep = fast_sleep\n",
    "# ... do the tests\n",
    "# finally:\n",
    "time.sleep = original_sleep\n",
    "```\n",
    "- Just avoid this and patch the instance!\n"
   ]
  },
  {
   "cell_type": "markdown",
   "metadata": {},
   "source": [
    "# Template method\n",
    "#####  A mocking technique using inheritance and donuts\n",
    "\n",
    "<img src=\"files/donut-inheritance.jpg\" height=\"55%\" width=\"55%\" align=\"left\">\n"
   ]
  },
  {
   "cell_type": "markdown",
   "metadata": {},
   "source": [
    "##### What is one way we normally override behavior?"
   ]
  },
  {
   "cell_type": "markdown",
   "metadata": {},
   "source": [
    "#### Definition\n",
    "Change behaviors by inheriting from the class-under-test and overriding behavior.\n",
    "\n",
    "This applies to classes only."
   ]
  },
  {
   "cell_type": "code",
   "execution_count": null,
   "metadata": {},
   "outputs": [],
   "source": [
    "# Template method is only for classes, so refactor as such:\n",
    "\n",
    "class MyTestableAwesomeCode(object):\n",
    "\n",
    "    def _expensive_operation(self):\n",
    "        print('performing expensive thingy')\n",
    "        time.sleep(4)\n",
    "        print('done with it')\n",
    "\n",
    "    # We want to test this method\n",
    "    def some_awesome_code(self, a, b, c):\n",
    "        self._expensive_operation()\n",
    "        return sum([a, b, c])"
   ]
  },
  {
   "cell_type": "code",
   "execution_count": null,
   "metadata": {},
   "outputs": [],
   "source": [
    "# Expect 1 + 2 + 3 == 6\n",
    "m = MyTestableAwesomeCode()\n",
    "print(m.some_awesome_code(1, 2, 3))"
   ]
  },
  {
   "cell_type": "code",
   "execution_count": null,
   "metadata": {},
   "outputs": [],
   "source": [
    "# lets make it fast by inheriting from class-under-test and overriding the slow method.\n",
    "\n",
    "class MyTestableAwesomeCodeFast(MyTestableAwesomeCode):\n",
    "    \n",
    "    def _expensive_operation(self):\n",
    "        print('damn fast now')"
   ]
  },
  {
   "cell_type": "code",
   "execution_count": null,
   "metadata": {},
   "outputs": [],
   "source": [
    "m = MyTestableAwesomeCodeFast()\n",
    "print(m.some_awesome_code(1, 2, 3))"
   ]
  },
  {
   "cell_type": "markdown",
   "metadata": {},
   "source": [
    "##### What do you like about this method vs patching?  What do you dislike?"
   ]
  },
  {
   "cell_type": "markdown",
   "metadata": {},
   "source": [
    "#### More About Classes\n",
    "1. Use classes almost always for the benefit of code organization, OOP and...\n",
    "2. For testability! Patch that instance or template it.\n",
    "3. Multiple levels of inheritance is stinky (1-2 okay).\n"
   ]
  },
  {
   "cell_type": "markdown",
   "metadata": {},
   "source": [
    "# Dependency Injection\n",
    "##### It's like a flu shot without the side-effects\n",
    "\n",
    "<img src=\"files/injection.jpg\" height=\"50%\" width=\"50%\" align=\"left\">\n"
   ]
  },
  {
   "cell_type": "markdown",
   "metadata": {},
   "source": [
    "#### Definition\n",
    "\n",
    "Fancytalk for \"pass in objects as parameters\" (so that you can provide objects with mocked behaviors later)"
   ]
  },
  {
   "cell_type": "code",
   "execution_count": null,
   "metadata": {},
   "outputs": [],
   "source": [
    "# requires refactoring: make dependencies inputs\n",
    "\n",
    "import time\n",
    "\n",
    "def expensive_operation():\n",
    "    print('performing expensive thingy')\n",
    "    time.sleep(4)\n",
    "    print('done with it')\n",
    "\n",
    "def some_awesome_code(a, b, c, expensive_operation=expensive_operation):\n",
    "    expensive_operation()\n",
    "    return sum([a, b, c])"
   ]
  },
  {
   "cell_type": "code",
   "execution_count": null,
   "metadata": {},
   "outputs": [],
   "source": [
    "# Expect 1 + 2 + 3 == 6\n",
    "some_awesome_code(1, 2, 3)"
   ]
  },
  {
   "cell_type": "code",
   "execution_count": null,
   "metadata": {},
   "outputs": [],
   "source": [
    "# Let's make this fast by providing a fake expensive operation\n",
    "some_awesome_code(1, 2, 3, expensive_operation=lambda: None)\n"
   ]
  },
  {
   "cell_type": "markdown",
   "metadata": {},
   "source": [
    "##### What do you like about this method over the others? Dislike?"
   ]
  },
  {
   "cell_type": "markdown",
   "metadata": {},
   "source": [
    "# Patching vs Template Method vs Dependency Injection\n",
    "##### Monkeys, donuts and injections\n",
    "<img src=\"files/monkey-donut.jpg\" height=\"60%\" width=\"60%\" align=\"left\">"
   ]
  },
  {
   "cell_type": "markdown",
   "metadata": {},
   "source": [
    "#### Patching\n",
    "- Patching dynamically changes behavior by reassigning datamembers to new ones.\n",
    "- Patching may be used on an object (luckily everything in Python is an object).\n",
    "- Can only mock behavior that is an attribute of that object.\n",
    "- Avoid patching globals like modules, packages, classes, if possible. Or restore the original behavior.\n",
    "\n",
    "#### Template Method\n",
    "- Template method statically defines new behavior (by creating a new class).\n",
    "- Applicable to classes only.\n",
    "- Can only mock behavior that is part of self.\n",
    "- More code than patching due to typing out a new class.\n",
    "\n",
    "#### Dependency Injection\n",
    "- Fancytalk for \"pass in objects as parameters\"\n",
    "- Requires you to provide dependencies as inputs.\n",
    "- Dependencies are exposed in the interface.\n",
    "- Less knowledge of class under test required."
   ]
  },
  {
   "cell_type": "markdown",
   "metadata": {},
   "source": [
    "# Testing in Python HOWTO\n",
    "##### Using popular testing frameworks\n",
    "<img src=\"files/goat-testing.jpg\" align=\"left\">\n"
   ]
  },
  {
   "cell_type": "markdown",
   "metadata": {},
   "source": [
    "##### What frameworks are available in Python for writing unit tests?\n",
    "1. Unittest\n",
    "2. doctest\n",
    "3. pytest\n",
    "4. [and many more](https://wiki.python.org/moin/PythonTestingToolsTaxonomy)\n",
    "\n",
    "##### \tWhat follows are simple examples and then those requiring setup/teardown."
   ]
  },
  {
   "cell_type": "markdown",
   "metadata": {},
   "source": [
    "# Unittest (standard library)\n",
    "- [Unittest](https://docs.python.org/2/library/unittest.html) is available in Python 2 and 3 standard library\n",
    "- Unittest supports test automation by writing classes."
   ]
  },
  {
   "cell_type": "code",
   "execution_count": null,
   "metadata": {},
   "outputs": [],
   "source": [
    "import unittest\n",
    "\n",
    "def fib(n):\n",
    "    \"\"\"Return the n-th number in the fibonacci series.\"\"\"\n",
    "    if n <= 0:\n",
    "        return 0\n",
    "    elif n == 1:\n",
    "        return 1\n",
    "    return fib(n-1) + fib(n-2)\n",
    "\n",
    "class TestFib(unittest.TestCase):\n",
    "    \n",
    "    def test_fib_series(self):\n",
    "        self.assertEqual(fib(0), 0)\n",
    "        self.assertEqual(fib(1), 1)\n",
    "        self.assertEqual(fib(2), 1)\n",
    "        self.assertEqual(fib(3), 2)\n",
    "        self.assertEqual(fib(4), 3)\n",
    "        self.assertEqual(fib(5), 5)\n",
    "\n",
    "if __name__ == \"__main__\":\n",
    "    #normally this is unittest.main()...this is for jupyter\n",
    "    unittest.main(argv=['first-arg-is-ignored'], exit=False, verbosity=2)\n"
   ]
  },
  {
   "cell_type": "markdown",
   "metadata": {},
   "source": [
    "# Doctest (standard library)\n",
    "- [Doctest](https://docs.python.org/2/library/doctest.html) is available in Python 2 and 3 standard library\n",
    "- Doctest allows you to write tests in your docstrings."
   ]
  },
  {
   "cell_type": "code",
   "execution_count": null,
   "metadata": {},
   "outputs": [],
   "source": [
    "def fib(n):\n",
    "    \"\"\"Return the n-th number in the fibonacci series.\n",
    "    \n",
    "    >>> fib(0)\n",
    "    0\n",
    "    >>> fib(1)\n",
    "    1\n",
    "    >>> fib(29)\n",
    "    514229\n",
    "    \"\"\"\n",
    "    if n <= 0:\n",
    "        return 0\n",
    "    elif n == 1:\n",
    "        return 1\n",
    "    return fib(n-1) + fib(n-2)\n",
    "\n",
    "\n",
    "if __name__ == \"__main__\":\n",
    "    import doctest\n",
    "    #doctest.testmod()\n",
    "    doctest.testmod(verbose=True)\n"
   ]
  },
  {
   "cell_type": "markdown",
   "metadata": {},
   "source": [
    "##### What is so awesome about doctest?"
   ]
  },
  {
   "cell_type": "markdown",
   "metadata": {},
   "source": [
    "# Pytest (third party)\n",
    "- [Pytest](https://docs.pytest.org/en/latest/) is available for Python 2.6+ and 3.3+ as a third-party package\n",
    "- Combines doctest's simplicity and unittest's advanced features into a simple and powerful framework.\n",
    "- Test discovery: for doctests, unittests and pytests.\n"
   ]
  },
  {
   "cell_type": "markdown",
   "metadata": {},
   "source": [
    "<img src=\"files/pytest.png\" align=\"left\">"
   ]
  },
  {
   "cell_type": "code",
   "execution_count": null,
   "metadata": {},
   "outputs": [],
   "source": [
    "# Running pytest in jupyter requires some magic.\n",
    "# See: http://cprohm.de/article/ipytest-running-pytest-in-ipython-notebooks.html\n",
    "__file__ = 'Python Testing.ipynb'\n",
    "import ipytest.magics\n",
    "import pytest"
   ]
  },
  {
   "cell_type": "code",
   "execution_count": null,
   "metadata": {},
   "outputs": [],
   "source": [
    "%%run_pytest[clean] -vvv\n",
    "\n",
    "def fib(n):\n",
    "    \"\"\"Return the n-th number in the fibonacci series.\"\"\"\n",
    "    if n <= 0:\n",
    "        return 0\n",
    "    elif n == 1:\n",
    "        return 1\n",
    "    return fib(n-1) + fib(n-2)\n",
    "\n",
    "def test_fib_series():\n",
    "    assert fib(0) == 0\n",
    "    assert fib(1) == 1\n",
    "    assert fib(2) == 1\n",
    "    assert fib(3) == 2\n",
    "    assert fib(4) == 3\n",
    "    assert fib(5) == 5\n"
   ]
  },
  {
   "cell_type": "markdown",
   "metadata": {},
   "source": [
    "##### What is great about pytest over unittest?"
   ]
  },
  {
   "cell_type": "markdown",
   "metadata": {},
   "source": [
    "# Setup and teardown\n",
    "\n",
    "Both unittest and pytest support running the same code before and after every test.\n"
   ]
  },
  {
   "cell_type": "markdown",
   "metadata": {},
   "source": [
    "#### Unittest setup and teardown"
   ]
  },
  {
   "cell_type": "code",
   "execution_count": null,
   "metadata": {},
   "outputs": [],
   "source": [
    "import traceback\n",
    "import unittest\n",
    "\n",
    "class SomeTestCode(unittest.TestCase):\n",
    "    \n",
    "    def setUp(self):\n",
    "        print('patching a global module')\n",
    "        self.traceback_print_tb = traceback.print_tb\n",
    "        traceback.print_tb = lambda *args, **kwargs: None\n",
    "        \n",
    "    def tearDown(self):\n",
    "        print('unpatching')\n",
    "        traceback.print_tb = self.traceback_print_tb\n",
    "    \n",
    "    def test_one(self):\n",
    "        print('in test one')\n",
    "    \n",
    "    def test_two(self):\n",
    "        print('in test two')\n",
    "       \n",
    "if __name__ == \"__main__\":\n",
    "    #normally this is unittest.main()...this is for jupyter\n",
    "    unittest.main(argv=['first-arg-is-ignored'], exit=False, verbosity=0)\n"
   ]
  },
  {
   "cell_type": "markdown",
   "metadata": {},
   "source": [
    "#### Pytest setup and teardown\n",
    "\n",
    "Pytest provides \"fixtures\" for setup and teardown.\n"
   ]
  },
  {
   "cell_type": "code",
   "execution_count": null,
   "metadata": {},
   "outputs": [],
   "source": [
    "%%run_pytest[clean] -qq\n",
    "\n",
    "import pytest\n",
    "\n",
    "@pytest.fixture(scope='function')\n",
    "def mocked_module():\n",
    "    print('patching')\n",
    "    traceback_print_tb = traceback.print_tb\n",
    "    traceback.print_tb = lambda *args, **kwargs: None\n",
    "    yield\n",
    "    print('unpatching')\n",
    "    traceback.print_tb = traceback_print_tb\n",
    "\n",
    "def test_one(mocked_module):\n",
    "    print('in test one')\n",
    "    raise Exception(\"boo one!\")\n",
    "    \n",
    "def test_two(mocked_module):\n",
    "    print('in test two')\n",
    "    raise Exception(\"boo two!\")\n",
    "\n",
    "# Note that if an exception happens during the setup code (before the yield keyword),\n",
    "# the teardown code (after the yield) will not be called.\n",
    "\n",
    "# A second pattern may be employed to ensure teardown happens even when\n",
    "# setup fails (use a \"finalizer\")\n"
   ]
  },
  {
   "cell_type": "markdown",
   "metadata": {},
   "source": [
    "# Frameworks Summary\n",
    "##### Pytest vs Unittest vs Doctest\n",
    "<img src=\"files/fight.jpg\" align=\"left\">\n"
   ]
  },
  {
   "cell_type": "markdown",
   "metadata": {},
   "source": [
    "\n",
    "#### Unittest: \n",
    "- Familiar class-based JUnit-like syntax.\n",
    "- Powerful enough to do all you need.\n",
    "\n",
    "#### Doctest: \n",
    "- Tests are both documentation and actual tests!\n",
    "- Great for simple tests (e.g. functions with simple inputs and outputs).\n",
    "\n",
    "#### Pytest\n",
    "- Finds and runs all your doctests, unittests and pytests.\n",
    "- Does everything unittest does but in fewer lines of code.\n",
    "- Great plugins: generate coverage, get a library of django fixtures, etc.\n",
    "\n",
    "\n"
   ]
  },
  {
   "cell_type": "markdown",
   "metadata": {},
   "source": [
    "# Pytest vs Unittest\n",
    "##### Pytest wins!\n",
    "<img src=\"files/pytestvsdoctest.png\" align=\"left\">\n"
   ]
  },
  {
   "cell_type": "markdown",
   "metadata": {},
   "source": [
    "See also these great videos:\n",
    "- [Pytest vs Unittest by Renzo Nuccitelli](https://www.youtube.com/watch?v=572xUCFCUho)\n",
    "- [My Lightning Talk on Adopting Pytest](https://www.youtube.com/watch?v=sWp445cWDyA)"
   ]
  },
  {
   "cell_type": "markdown",
   "metadata": {},
   "source": [
    "# Demo / Example\n",
    "##### It's getting real\n",
    "<br>\n",
    "<img src=\"files/choose-your-own.jpg\" align=\"left\">\n"
   ]
  },
  {
   "cell_type": "markdown",
   "metadata": {},
   "source": [
    "## Pytest\n",
    "1. run pytests via debugger\n",
    "2. run pytests in cmd line\n",
    "3. generate coverage report\n",
    "4. configuration: pytest.ini and .coveragerc and conftest.py\n",
    "\n",
    "## Stock Picker Problem\n",
    "Use TDD to implement a stock picker. Stock data gotten from:\n",
    "- https://api.iextrading.com/1.0/stock/aapl/chart/1y\n",
    "- https://api.iextrading.com/1.0/stock/aapl/price\n"
   ]
  },
  {
   "cell_type": "markdown",
   "metadata": {},
   "source": [
    "# Stock Picker Problem\n",
    "\n",
    "<img src=\"files/stock-picker.jpg\" align=\"left\">\n"
   ]
  },
  {
   "cell_type": "markdown",
   "metadata": {},
   "source": [
    "\n",
    "## Task:\n",
    "- build a stock picker; it identifies good stocks to buy.\n",
    "- first part of stock picking is to determine if a given stock is a good buy.\n",
    "- we define a stock is a good buy if its current price is less than 10% of its 1 year average price.\n",
    "- price data is given by the following APIs:\n",
    "  - 1 year average obtained from: https://api.iextrading.com/1.0/stock/aapl/chart/1y\n",
    "  - current price: https://api.iextrading.com/1.0/stock/aapl/price\n",
    "\n",
    "#### To make this simpler, the following template is already implemented."
   ]
  },
  {
   "cell_type": "code",
   "execution_count": null,
   "metadata": {},
   "outputs": [],
   "source": [
    "class StockPicker:\n",
    "\n",
    "    def __init__(self):\n",
    "        pass\n",
    "\n",
    "    def is_good_buy(self, ticker: str) -> bool:\n",
    "        \"\"\"\"Return True if the stock is a good buy.\n",
    "\n",
    "        A stock is a good buy if its current price is less than 10% of its 1 year average price.\n",
    "        \"\"\"\n",
    "        pass\n"
   ]
  },
  {
   "cell_type": "markdown",
   "metadata": {},
   "source": [
    "##### What dependencies may require mocking out?\n",
    "<br>\n",
    "<br>\n",
    "<br>\n",
    "<br>\n",
    "##### What code may introduce bugs and require special attention (testing)?\n",
    "<br>\n",
    "<br>\n",
    "<br>\n",
    "<br>\n",
    "##### How may we seperate the good-buy determination from fetching data?\n",
    "<br>\n",
    "<br>\n",
    "<br>\n",
    "<br>\n",
    "##### Lets start with testing the good-buy determination; what are the two simplest test cases for this method?\n",
    "<br>\n",
    "<br>"
   ]
  },
  {
   "cell_type": "code",
   "execution_count": null,
   "metadata": {},
   "outputs": [],
   "source": [
    "class StockPicker:\n",
    "    GOOD_BUY_THRESHOLD_PCT = 10.0\n",
    "\n",
    "    def __init__(self):\n",
    "        pass\n",
    "\n",
    "    @classmethod\n",
    "    def _is_good_buy(cls, current_price: float, one_yr_avg_price: float) -> bool:\n",
    "        \"\"\"Return True if `current_price` is less than a percentage of `one_yr_avg_price`.\n",
    "\n",
    "        >>> StockPicker._is_good_buy(89.99, 100.0)\n",
    "        True\n",
    "        >>> StockPicker._is_good_buy(90.00, 100.0)\n",
    "        False\n",
    "        \"\"\"\n",
    "        return current_price < (one_yr_avg_price * (1 - (cls.GOOD_BUY_THRESHOLD_PCT / 100)))\n",
    "\n",
    "    def is_good_buy(self, ticker: str) -> bool:\n",
    "        \"\"\"\"Return True if the stock is a good buy.\n",
    "\n",
    "        A stock is a good buy if its current price is less than 10% of its 1 year average price.\n",
    "        \"\"\"\n",
    "        pass\n",
    "\n",
    "if __name__ == \"__main__\":\n",
    "    import doctest\n",
    "    #doctest.testmod()\n",
    "    doctest.testmod(verbose=True)\n"
   ]
  },
  {
   "cell_type": "markdown",
   "metadata": {},
   "source": [
    "##### Now lets implement the data retrieval.\n"
   ]
  },
  {
   "cell_type": "code",
   "execution_count": null,
   "metadata": {},
   "outputs": [],
   "source": [
    "import requests\n",
    "\n",
    "class StockPricesAPI:\n",
    "\n",
    "    URL_BASE = \"https://api.iextrading.com/1.0/stock/\"\n",
    "\n",
    "    def get_current_price(self, ticker):\n",
    "        url = self.URL_BASE + '{}/price'.format(ticker)\n",
    "        response = requests.get(url)\n",
    "        return response.json()\n",
    "\n",
    "    def get_1_yr_price_data(self, ticker):\n",
    "        url = self.URL_BASE + '{}/chart/1y'.format(ticker)\n",
    "        response = requests.get(url)\n",
    "        return response.json()\n",
    "\n",
    "    def get_1_yr_avg_price(self, ticker):\n",
    "        one_yr_prices = self.get_1_yr_price_data(ticker)\n",
    "        average = sum([d['close'] for d in one_yr_prices]) / len(one_yr_prices)\n",
    "        return average\n",
    "    \n",
    "if __name__ == \"__main__\":\n",
    "    s = StockPricesAPI()\n",
    "    print(s.get_current_price('aapl'))\n",
    "    print(s.get_1_yr_price_data('aapl'))\n",
    "    print(s.get_1_yr_avg_price('aapl'))\n"
   ]
  },
  {
   "cell_type": "markdown",
   "metadata": {},
   "source": [
    "##### What methods are important to test in this class?\n",
    "<br>\n",
    "##### What issues may arise in the methods?\n",
    "<br>\n",
    "##### How could we test the get_1_yr_avg_price method?\n",
    "<br>"
   ]
  },
  {
   "cell_type": "code",
   "execution_count": null,
   "metadata": {},
   "outputs": [],
   "source": [
    "%%run_pytest[clean] -vvv\n",
    "\n",
    "\n",
    "def test_get_1_yr_avg_price():\n",
    "\n",
    "    def my_price_data(ticker):\n",
    "        return [{'date': '2017-04-10',\n",
    "                 'open': 141.3635,\n",
    "                 'high': 141.6384,\n",
    "                 'low': 140.6744,\n",
    "                 'close': 140.9402,\n",
    "                 'volume': 18933397,\n",
    "                 'unadjustedVolume': 18933397,\n",
    "                 'change': -0.167353,\n",
    "                 'changePercent': -0.119,\n",
    "                 'vwap': 141.1334,\n",
    "                 'label': 'Apr 10, 17',\n",
    "                 'changeOverTime': 0}]\n",
    "\n",
    "    s = StockPricesAPI()\n",
    "    s.get_1_yr_price_data = my_price_data\n",
    "    assert s.get_1_yr_avg_price('some-ticker') == 140.9402\n",
    "\n",
    "    s.get_1_yr_price_data = lambda ticker: [{'close': 3}, {'close': 1}]\n",
    "    assert s.get_1_yr_avg_price('some-ticker') == 2"
   ]
  },
  {
   "cell_type": "markdown",
   "metadata": {},
   "source": [
    "#### TODO: implement the is_good_buy() method and test cases."
   ]
  },
  {
   "cell_type": "markdown",
   "metadata": {},
   "source": [
    "# Conclusion\n",
    "- Write them **pytests, unittests and doctests.**\n",
    "- Replace behaviors to make tests fast and isolated using **patching, inheritance and injection.**\n",
    "- Automate them with **jenkins** and look at pretty graphs, **coverage** and stuff.\n",
    "\n",
    "##### program like a boss\n",
    "<img src=\"files/like-a-boss.jpg\" align=\"left\">\n",
    "\n",
    "\n"
   ]
  },
  {
   "cell_type": "markdown",
   "metadata": {},
   "source": [
    "# Additional Resources\n",
    "- [Python Testing Tools Taxonomy](https://wiki.python.org/moin/PythonTestingToolsTaxonomy)\n",
    "- [unittest](https://docs.python.org/3/library/unittest.html)\n",
    "- [doctest](https://docs.python.org/3/library/doctest.html)\n",
    "- [pytest](https://docs.pytest.org/en/latest/)\n",
    "- [coverage](https://bitbucket.org/ned/coveragepy)\n",
    "- [Learning to Test with Python](https://medium.freecodecamp.org/learning-to-test-with-python-997ace2d8abe)\n"
   ]
  },
  {
   "cell_type": "markdown",
   "metadata": {},
   "source": [
    "# Thank You\n"
   ]
  },
  {
   "cell_type": "code",
   "execution_count": null,
   "metadata": {},
   "outputs": [],
   "source": []
  }
 ],
 "metadata": {
  "celltoolbar": "Raw Cell Format",
  "kernelspec": {
   "display_name": "Python 3",
   "language": "python",
   "name": "python3"
  },
  "language_info": {
   "codemirror_mode": {
    "name": "ipython",
    "version": 3
   },
   "file_extension": ".py",
   "mimetype": "text/x-python",
   "name": "python",
   "nbconvert_exporter": "python",
   "pygments_lexer": "ipython3",
   "version": "3.6.3"
  }
 },
 "nbformat": 4,
 "nbformat_minor": 2
}
